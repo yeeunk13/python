{
 "cells": [
  {
   "cell_type": "markdown",
   "metadata": {},
   "source": [
    "### 실습문제 1"
   ]
  },
  {
   "cell_type": "code",
   "execution_count": 1,
   "metadata": {},
   "outputs": [
    {
     "name": "stdout",
     "output_type": "stream",
     "text": [
      "화씨온도: 100\n",
      "섭씨온도: 37.77777777777778\n"
     ]
    }
   ],
   "source": [
    "F = int(input(\"화씨온도: \"))\n",
    "C = (F-32)*(5/9)\n",
    "print(\"섭씨온도:\", C)"
   ]
  },
  {
   "cell_type": "markdown",
   "metadata": {},
   "source": [
    "### 실습문제 2"
   ]
  },
  {
   "cell_type": "code",
   "execution_count": 2,
   "metadata": {},
   "outputs": [
    {
     "name": "stdout",
     "output_type": "stream",
     "text": [
      "투입한 돈: 5000\n",
      "물건값: 2700\n",
      "거스름돈: 2300\n",
      "500원짜리: 4개\n",
      "100원짜리: 3개\n"
     ]
    }
   ],
   "source": [
    "money = int(input(\"투입한 돈: \"))\n",
    "price = int(input(\"물건값: \"))\n",
    "\n",
    "charge = money - price\n",
    "print(\"거스름돈:\", charge)\n",
    "\n",
    "coin5 = charge // 500\n",
    "print(\"500원짜리:\" + ' ' + str(coin5) + \"개\")\n",
    "\n",
    "coin1 = (charge - coin5 * 500) // 100\n",
    "print(\"100원짜리:\" + ' ' + str(coin1) + \"개\")"
   ]
  },
  {
   "cell_type": "markdown",
   "metadata": {},
   "source": [
    "### 실습문제 3"
   ]
  },
  {
   "cell_type": "code",
   "execution_count": 3,
   "metadata": {},
   "outputs": [
    {
     "name": "stdout",
     "output_type": "stream",
     "text": [
      "반지름을 입력하시오: 5\n",
      "원 둘레: 31.42\n",
      "원 넓이: 78.54\n"
     ]
    }
   ],
   "source": [
    "r = int(input(\"반지름을 입력하시오: \"))\n",
    "print(\"원 둘레:\", round(2 * 3.141592 * r,2))\n",
    "print(\"원 넓이:\", round(3.141592 * r**2,2))"
   ]
  }
 ],
 "metadata": {
  "kernelspec": {
   "display_name": "Python 3",
   "language": "python",
   "name": "python3"
  },
  "language_info": {
   "codemirror_mode": {
    "name": "ipython",
    "version": 3
   },
   "file_extension": ".py",
   "mimetype": "text/x-python",
   "name": "python",
   "nbconvert_exporter": "python",
   "pygments_lexer": "ipython3",
   "version": "3.8.3"
  }
 },
 "nbformat": 4,
 "nbformat_minor": 4
}
