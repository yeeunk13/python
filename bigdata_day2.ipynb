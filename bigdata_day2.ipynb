{
 "cells": [
  {
   "cell_type": "code",
   "execution_count": 87,
   "metadata": {},
   "outputs": [],
   "source": [
    "import pandas as pd\n",
    "import numpy as np\n",
    "import matplotlib\n",
    "import matplotlib.pyplot as plt\n",
    "import seaborn as sns\n",
    "from scipy import stats\n",
    "import scipy.stats\n",
    "import statsmodels.formula.api as smf\n",
    "import statsmodels.api as sm\n",
    "\n",
    "from statsmodels.stats.proportion import proportions_ztest\n",
    "from statsmodels.formula.api import ols\n",
    "#from statsmodels.stats.anova import anova_im\n",
    "\n",
    "#jupyter 내 그래프를 바로 그리기 위한 설정\n",
    "%matplotlib inline"
   ]
  },
  {
   "cell_type": "markdown",
   "metadata": {},
   "source": [
    "### weivull 분포에서 확률 계산하기\n"
   ]
  },
  {
   "cell_type": "code",
   "execution_count": 4,
   "metadata": {},
   "outputs": [
    {
     "name": "stdout",
     "output_type": "stream",
     "text": [
      "P(X >= x): 0.195\n"
     ]
    }
   ],
   "source": [
    "#weivull 분포에서 확률 계산하기\n",
    "#형성모수(alpha) :2.2 척도모수(beta) 1200에서 1500시간 이상 작동 확률\n",
    "\n",
    "x = 1500\n",
    "alpha = 2.2\n",
    "beta = 1200\n",
    "\n",
    "#누적확률 값 계산\n",
    "prob = stats.weibull_min.cdf(x, alpha, scale= beta)\n",
    "print(\"P(X >= x): {:.3f}\".format((1-prob)))"
   ]
  },
  {
   "cell_type": "markdown",
   "metadata": {},
   "source": [
    "### 이항 분포\n"
   ]
  },
  {
   "cell_type": "code",
   "execution_count": 7,
   "metadata": {},
   "outputs": [
    {
     "name": "stdout",
     "output_type": "stream",
     "text": [
      "P(X=0) = 0.216\n",
      "P(X=1) = 0.432\n",
      "P(X=2) = 0.288\n",
      "P(X=3) = 0.064\n"
     ]
    }
   ],
   "source": [
    "n = 3\n",
    "for i in range(n+1):\n",
    "    #이항분포 probability Mass Function\n",
    "    prob = stats.binom.pmf(k=i, n = n , p = 0.4)\n",
    "    print(\"P(X={0}) = {1:.3f}\".format(i, prob))"
   ]
  },
  {
   "cell_type": "markdown",
   "metadata": {},
   "source": [
    "### 포아송 분포\n"
   ]
  },
  {
   "cell_type": "code",
   "execution_count": 10,
   "metadata": {},
   "outputs": [
    {
     "name": "stdout",
     "output_type": "stream",
     "text": [
      "1분당 3번의 전화가 걸려올 확률: 18.0\n",
      "1분당 최대 2번 이하의 전화가 걸려올 확률: 67.7\n"
     ]
    }
   ],
   "source": [
    "#평균\n",
    "m = 2\n",
    "\n",
    "#1분당 3번의 전화가 걸려올 확률\n",
    "prob = stats.poisson.pmf(3,m)\n",
    "print(\"1분당 {0}번의 전화가 걸려올 확률: {1:.1f}\".format(3, prob*100))\n",
    "\n",
    "#1분당 최대 2회 이하의 전화가 걸려올 확률\n",
    "cdf_prob = stats.poisson.cdf(2, m)\n",
    "print(\"1분당 최대 {0}번 이하의 전화가 걸려올 확률: {1:.1f}\".format(2, cdf_prob*100))"
   ]
  },
  {
   "cell_type": "markdown",
   "metadata": {},
   "source": [
    "### 정규성 검정"
   ]
  },
  {
   "cell_type": "code",
   "execution_count": 18,
   "metadata": {},
   "outputs": [],
   "source": [
    "from scipy.stats import shapiro"
   ]
  },
  {
   "cell_type": "code",
   "execution_count": 20,
   "metadata": {},
   "outputs": [
    {
     "data": {
      "text/html": [
       "<div>\n",
       "<style scoped>\n",
       "    .dataframe tbody tr th:only-of-type {\n",
       "        vertical-align: middle;\n",
       "    }\n",
       "\n",
       "    .dataframe tbody tr th {\n",
       "        vertical-align: top;\n",
       "    }\n",
       "\n",
       "    .dataframe thead th {\n",
       "        text-align: right;\n",
       "    }\n",
       "</style>\n",
       "<table border=\"1\" class=\"dataframe\">\n",
       "  <thead>\n",
       "    <tr style=\"text-align: right;\">\n",
       "      <th></th>\n",
       "      <th>Length</th>\n",
       "      <th>Supp1</th>\n",
       "      <th>Supp2</th>\n",
       "    </tr>\n",
       "  </thead>\n",
       "  <tbody>\n",
       "    <tr>\n",
       "      <th>0</th>\n",
       "      <td>601.4</td>\n",
       "      <td>598.0</td>\n",
       "      <td>601.6</td>\n",
       "    </tr>\n",
       "    <tr>\n",
       "      <th>1</th>\n",
       "      <td>601.6</td>\n",
       "      <td>599.8</td>\n",
       "      <td>600.4</td>\n",
       "    </tr>\n",
       "    <tr>\n",
       "      <th>2</th>\n",
       "      <td>598.0</td>\n",
       "      <td>600.0</td>\n",
       "      <td>598.4</td>\n",
       "    </tr>\n",
       "    <tr>\n",
       "      <th>3</th>\n",
       "      <td>601.4</td>\n",
       "      <td>599.8</td>\n",
       "      <td>600.0</td>\n",
       "    </tr>\n",
       "    <tr>\n",
       "      <th>4</th>\n",
       "      <td>599.4</td>\n",
       "      <td>600.0</td>\n",
       "      <td>596.8</td>\n",
       "    </tr>\n",
       "  </tbody>\n",
       "</table>\n",
       "</div>"
      ],
      "text/plain": [
       "   Length  Supp1  Supp2\n",
       "0   601.4  598.0  601.6\n",
       "1   601.6  599.8  600.4\n",
       "2   598.0  600.0  598.4\n",
       "3   601.4  599.8  600.0\n",
       "4   599.4  600.0  596.8"
      ]
     },
     "execution_count": 20,
     "metadata": {},
     "output_type": "execute_result"
    }
   ],
   "source": [
    "ds_camshaft = pd.read_csv('/home/piai/test/Daily/csv/camshaft.csv', engine = 'python')\n",
    "ds_camshaft.head()"
   ]
  },
  {
   "cell_type": "code",
   "execution_count": 22,
   "metadata": {},
   "outputs": [
    {
     "name": "stdout",
     "output_type": "stream",
     "text": [
      "Shapiro-Wilk Test: statistic = 0.9788156747817993, p-value = 0.10744144767522812\n"
     ]
    }
   ],
   "source": [
    "data1 = ds_camshaft['Supp1']\n",
    "\n",
    "#정규성 검정: shapiro-Wilk Test\n",
    "statistic, p = stats.shapiro(data1)\n",
    "print('Shapiro-Wilk Test: statistic = {}, p-value = {}'.format(statistic, p))"
   ]
  },
  {
   "cell_type": "markdown",
   "metadata": {},
   "source": [
    "### 모평균 구간추정"
   ]
  },
  {
   "cell_type": "code",
   "execution_count": 30,
   "metadata": {},
   "outputs": [
    {
     "name": "stdout",
     "output_type": "stream",
     "text": [
      "신뢰구간: ([2.57],[2.82])\n"
     ]
    }
   ],
   "source": [
    "df = pd.DataFrame({'sample':[3.6,2.9,2.8,2.6,3.4,3.2,2.2,2.6,2.6,2.4,2.4,2.6,3.4,2.4,2.1,2.6,3.0,2.4,2.7,2.4,2.6,2.9,2.9,2.0,2.7,2.2,2.8,2.7,1.8,2.5,3.0,3.2,2.8,2.6,3.2,3.1,2.9,2.7,2.7,2.2]})\n",
    "df.head()\n",
    "\n",
    "lower,upper = stats.norm.interval(0.95, loc = np.mean(df), scale= 0.397/np.sqrt(40))\n",
    "print(\"신뢰구간: ({0},{1})\".format(lower.round(2), upper.round(2)))"
   ]
  },
  {
   "cell_type": "markdown",
   "metadata": {},
   "source": [
    "### 모평균 신뢰구간 추정 - 모표준편차를 모르는 경우\n"
   ]
  },
  {
   "cell_type": "code",
   "execution_count": 38,
   "metadata": {},
   "outputs": [
    {
     "name": "stdout",
     "output_type": "stream",
     "text": [
      "신뢰구간: ([54.39],[55.33])\n"
     ]
    }
   ],
   "source": [
    "df = pd.DataFrame({'sample':[54.1,53.3,56.1,55.7,54.0,54.1,54.5,57.1,55.2,53.8,54.1,54.1,56.1,55.0,55.9,56.0,54.9,54.3,53.9,55.0]})\n",
    "\n",
    "lower, upper = stats.t.interval(0.95, len(df)-1, loc = np.mean(df),scale = scipy.stats.sem(df))\n",
    "print(\"신뢰구간: ({0},{1})\".format(lower.round(2), upper.round(2)))"
   ]
  },
  {
   "cell_type": "markdown",
   "metadata": {},
   "source": [
    "### 평균검정(모집단 표준편차를 모르는 경우)"
   ]
  },
  {
   "cell_type": "code",
   "execution_count": 45,
   "metadata": {},
   "outputs": [
    {
     "name": "stdout",
     "output_type": "stream",
     "text": [
      "1-Sample t-test\n",
      "t 통계량 : [0.864]\n",
      "p-value : [0.41]\n"
     ]
    }
   ],
   "source": [
    "df = pd.DataFrame({'sample': [74.5, 81.2,73.8,82.0,76.3,75.7,80.2,72.6,77.9,82.8]})\n",
    "\n",
    "t_result = stats.ttest_1samp(df, 76.7)\n",
    "t, p = t_result.statistic.round(3),t_result.pvalue.round(3)\n",
    "\n",
    "print(\"1-Sample t-test\")\n",
    "print(\"t 통계량 : {}\".format(t))\n",
    "print(\"p-value : {}\".format(p))"
   ]
  },
  {
   "cell_type": "markdown",
   "metadata": {},
   "source": [
    "### 2 sample t-test"
   ]
  },
  {
   "cell_type": "code",
   "execution_count": 49,
   "metadata": {},
   "outputs": [
    {
     "data": {
      "text/plain": [
       "<matplotlib.axes._subplots.AxesSubplot at 0x7fd56e933670>"
      ]
     },
     "execution_count": 49,
     "metadata": {},
     "output_type": "execute_result"
    },
    {
     "data": {
      "image/png": "[encoded data removed]",
      "text/plain": [
       "<Figure size 432x288 with 1 Axes>"
      ]
     },
     "metadata": {
      "needs_background": "light"
     },
     "output_type": "display_data"
    }
   ],
   "source": [
    "df = pd.read_csv(\"/home/piai/Downloads/2sample.csv\", engine = 'python')\n",
    "\n",
    "df.boxplot(['cust A', 'cust B'])\n",
    "\n",
    "#t, p = t_result.statistic.round(3), t_result.pvalue.round(3)\n",
    "\n",
    "#print('2-Sample t-test')\n",
    "#print(\"t:{}\".format(t))\n",
    "#print(\"p:{}\".format(p))"
   ]
  },
  {
   "cell_type": "code",
   "execution_count": 60,
   "metadata": {},
   "outputs": [
    {
     "name": "stdout",
     "output_type": "stream",
     "text": [
      "statistic = 0.9094840288162231, p-value = 0.06230909377336502\n",
      "정규성 만족\n"
     ]
    }
   ],
   "source": [
    "# cust A 정규성 검정\n",
    "\n",
    "statistic, p = stats.shapiro(df['cust A'])\n",
    "print('statistic = {}, p-value = {}'.format(statistic, p))\n",
    "print('정규성 만족')"
   ]
  },
  {
   "cell_type": "code",
   "execution_count": 59,
   "metadata": {},
   "outputs": [
    {
     "name": "stdout",
     "output_type": "stream",
     "text": [
      "statistic = 0.9119446873664856, p-value = 0.06941930204629898\n",
      "정규성 만족\n"
     ]
    }
   ],
   "source": [
    "# cust B 정규성 검정\n",
    "\n",
    "statistic, p = stats.shapiro(df['cust B'])\n",
    "print('statistic = {}, p-value = {}'.format(statistic, p))\n",
    "print('정규성 만족')"
   ]
  },
  {
   "cell_type": "code",
   "execution_count": 56,
   "metadata": {},
   "outputs": [
    {
     "name": "stdout",
     "output_type": "stream",
     "text": [
      "LeveneResult(statistic=0.04810126582278468, pvalue=0.8275746090758196)\n",
      "\n",
      "p-value가 0.83이므로 두 집단의 분산은 같다고 할 수 있다\n"
     ]
    }
   ],
   "source": [
    "#equal variance test\n",
    "\n",
    "stats.levene(df['cust A'], df['cust B'])\n",
    "\n",
    "print(stats.levene(df['cust A'], df['cust B']))\n",
    "print()\n",
    "print('p-value가 0.83이므로 두 집단의 분산은 같다고 할 수 있다')"
   ]
  },
  {
   "cell_type": "code",
   "execution_count": 66,
   "metadata": {},
   "outputs": [
    {
     "name": "stdout",
     "output_type": "stream",
     "text": [
      "2-Sample t-test\n",
      "t검정통계량: -3.596\n",
      "p-value : 0.001\n",
      "결론: 유의수준 5%에서 검정결과 p값이 0.001 이므로 고객간에 고객만족도의 차이가 있다.\n"
     ]
    }
   ],
   "source": [
    "# 2-sample t-test\n",
    "t_result = stats.ttest_ind(df['cust A'], df['cust B'], equal_var = True)\n",
    "\n",
    "# 2-sample t-test의 t,p값 저장\n",
    "t, p = t_result.statistic.round(3), t_result.pvalue.round(3)\n",
    "\n",
    "#2-sample t-test의 t,p값 출력\n",
    "print(\"2-Sample t-test\")\n",
    "print(f\"t검정통계량: {t}\")\n",
    "print(f\"p-value : {p}\")\n",
    "print('결론: 유의수준 5%에서 검정결과 p값이 0.001 이므로 고객간에 고객만족도의 차이가 있다.')"
   ]
  },
  {
   "cell_type": "markdown",
   "metadata": {},
   "source": [
    "### paired t-test"
   ]
  },
  {
   "cell_type": "code",
   "execution_count": 70,
   "metadata": {},
   "outputs": [
    {
     "data": {
      "text/html": [
       "<div>\n",
       "<style scoped>\n",
       "    .dataframe tbody tr th:only-of-type {\n",
       "        vertical-align: middle;\n",
       "    }\n",
       "\n",
       "    .dataframe tbody tr th {\n",
       "        vertical-align: top;\n",
       "    }\n",
       "\n",
       "    .dataframe thead th {\n",
       "        text-align: right;\n",
       "    }\n",
       "</style>\n",
       "<table border=\"1\" class=\"dataframe\">\n",
       "  <thead>\n",
       "    <tr style=\"text-align: right;\">\n",
       "      <th></th>\n",
       "      <th>before</th>\n",
       "      <th>after</th>\n",
       "    </tr>\n",
       "  </thead>\n",
       "  <tbody>\n",
       "    <tr>\n",
       "      <th>0</th>\n",
       "      <td>720</td>\n",
       "      <td>810</td>\n",
       "    </tr>\n",
       "    <tr>\n",
       "      <th>1</th>\n",
       "      <td>589</td>\n",
       "      <td>670</td>\n",
       "    </tr>\n",
       "    <tr>\n",
       "      <th>2</th>\n",
       "      <td>780</td>\n",
       "      <td>790</td>\n",
       "    </tr>\n",
       "    <tr>\n",
       "      <th>3</th>\n",
       "      <td>648</td>\n",
       "      <td>712</td>\n",
       "    </tr>\n",
       "    <tr>\n",
       "      <th>4</th>\n",
       "      <td>720</td>\n",
       "      <td>810</td>\n",
       "    </tr>\n",
       "  </tbody>\n",
       "</table>\n",
       "</div>"
      ],
      "text/plain": [
       "   before  after\n",
       "0     720    810\n",
       "1     589    670\n",
       "2     780    790\n",
       "3     648    712\n",
       "4     720    810"
      ]
     },
     "execution_count": 70,
     "metadata": {},
     "output_type": "execute_result"
    }
   ],
   "source": [
    "df = pd.read_csv('/home/piai/Downloads/paired.csv', engine = 'python')\n",
    "df.head()"
   ]
  },
  {
   "cell_type": "code",
   "execution_count": 80,
   "metadata": {},
   "outputs": [
    {
     "name": "stdout",
     "output_type": "stream",
     "text": [
      "Paired t-test\n",
      "t검정 통계량 = -5.324, pvalue = 0.000\n",
      "\n",
      "유의수준 5%에서 검정결과 p값이 0.000이므로 학원 수강 전후의 점수는 차이가 있다고 할 수 있다.\n"
     ]
    }
   ],
   "source": [
    "#paired t-test\n",
    "t_result = stats.ttest_rel(df['before'],df['after'])\n",
    "\n",
    "#paired t-test 의 t,p 값 저장\n",
    "t, p = t_result.statistic.round(3), t_result.pvalue.round(3)\n",
    "\n",
    "#paired t-test의 t,p값 출력\n",
    "print('Paired t-test')\n",
    "print('t검정 통계량 = %.3f, pvalue = %.3f'% t_result)\n",
    "print()\n",
    "print('유의수준 5%에서 검정결과 p값이 0.000이므로 학원 수강 전후의 점수는 차이가 있다고 할 수 있다.')"
   ]
  },
  {
   "cell_type": "markdown",
   "metadata": {},
   "source": [
    "### 1 proportion test"
   ]
  },
  {
   "cell_type": "code",
   "execution_count": 85,
   "metadata": {},
   "outputs": [
    {
     "name": "stdout",
     "output_type": "stream",
     "text": [
      "1 Proportion test\n",
      "z:1.400\n",
      "p:0.161\n",
      "\n",
      "결과적으로 고급강 A제품에 대해 품질개선 결과 기존 대비 사용비율이 차이가 있다고 할 수 없다.\n"
     ]
    }
   ],
   "source": [
    "#가설 설정\n",
    "#Ho : p = 0.1\n",
    "#H1 : p != 0.1\n",
    "\n",
    "#변수 선언\n",
    "count = 15\n",
    "n_obs = 100\n",
    "value = 0.1\n",
    "\n",
    "#proportion test 실행\n",
    "stat, pval = proportions_ztest(count, n_obs, value)\n",
    "\n",
    "#proportion test 결과 출력\n",
    "print('1 Proportion test')\n",
    "print('z:{0:0.3f}'.format(stat))\n",
    "print('p:{0:0.3f}'.format(pval))\n",
    "print()\n",
    "print('결과적으로 고급강 A제품에 대해 품질개선 결과 기존 대비 사용비율이 차이가 있다고 할 수 없다.')"
   ]
  },
  {
   "cell_type": "markdown",
   "metadata": {},
   "source": [
    "### 2 proportion test"
   ]
  },
  {
   "cell_type": "code",
   "execution_count": 89,
   "metadata": {},
   "outputs": [
    {
     "name": "stdout",
     "output_type": "stream",
     "text": [
      "2 Proportion test\n",
      "z검정통계량:1.359\n",
      "p-value:0.174\n",
      "pvalue가 0.17423138824802498로 0.05보다 크므로 두 공장의 불량룰은 차이가 있다고 할 수 없다\n"
     ]
    }
   ],
   "source": [
    "#가설 설정\n",
    "#Ho : p1 = p2\n",
    "#H1: p1 != p2\n",
    "\n",
    "#변수 선언\n",
    "count = np.array([4,1])\n",
    "N_obs = np.array([1000,1200])\n",
    "\n",
    "#proportion test 실행\n",
    "stat, pval = proportions_ztest(count, n_obs)\n",
    "\n",
    "#proportion test 결과 출력\n",
    "print('2 Proportion test')\n",
    "print('z검정통계량:{0:0.3f}'.format(stat))\n",
    "print('p-value:{0:0.3f}'.format(pval))\n",
    "\n",
    "print(f'pvalue가 {pval}로 0.05보다 크므로 두 공장의 불량룰은 차이가 있다고 할 수 없다')"
   ]
  },
  {
   "cell_type": "code",
   "execution_count": null,
   "metadata": {},
   "outputs": [],
   "source": []
  }
 ],
 "metadata": {
  "kernelspec": {
   "display_name": "Python 3",
   "language": "python",
   "name": "python3"
  },
  "language_info": {
   "codemirror_mode": {
    "name": "ipython",
    "version": 3
   },
   "file_extension": ".py",
   "mimetype": "text/x-python",
   "name": "python",
   "nbconvert_exporter": "python",
   "pygments_lexer": "ipython3",
   "version": "3.8.3"
  }
 },
 "nbformat": 4,
 "nbformat_minor": 4
}
