{
 "cells": [
  {
   "cell_type": "markdown",
   "metadata": {},
   "source": [
    "*hello*  \n",
    "**hello**  \n",
    "***hello***"
   ]
  },
  {
   "cell_type": "code",
   "execution_count": 9,
   "metadata": {},
   "outputs": [
    {
     "name": "stdout",
     "output_type": "stream",
     "text": [
      "Hello World!\n"
     ]
    }
   ],
   "source": [
    "print(\"Hello World!\")"
   ]
  },
  {
   "cell_type": "code",
   "execution_count": null,
   "metadata": {},
   "outputs": [],
   "source": [
    "print(\"Hello World!\") #전체주석 ctl + /\n",
    "print(\"Hello World!\") #전체 tab , 전체 tab 지우기 tab+shift \n",
    "print(\"Hello World!\")\n",
    "print(\"Hello World!\")\n",
    "print(\"Hello World!\")"
   ]
  },
  {
   "cell_type": "markdown",
   "metadata": {},
   "source": [
    "## Hello, World!\n",
    "print 함수를 이용해서 출력해 봅니다."
   ]
  },
  {
   "cell_type": "markdown",
   "metadata": {},
   "source": [
    "### 산술연산자"
   ]
  },
  {
   "cell_type": "code",
   "execution_count": 4,
   "metadata": {},
   "outputs": [
    {
     "data": {
      "text/plain": [
       "1"
      ]
     },
     "execution_count": 4,
     "metadata": {},
     "output_type": "execute_result"
    }
   ],
   "source": [
    "7%3"
   ]
  },
  {
   "cell_type": "code",
   "execution_count": 3,
   "metadata": {},
   "outputs": [
    {
     "data": {
      "text/plain": [
       "21"
      ]
     },
     "execution_count": 3,
     "metadata": {},
     "output_type": "execute_result"
    }
   ],
   "source": [
    "2**4+5"
   ]
  },
  {
   "cell_type": "code",
   "execution_count": 5,
   "metadata": {},
   "outputs": [
    {
     "data": {
      "text/plain": [
       "3.0"
      ]
     },
     "execution_count": 5,
     "metadata": {},
     "output_type": "execute_result"
    }
   ],
   "source": [
    "6/2"
   ]
  },
  {
   "cell_type": "markdown",
   "metadata": {},
   "source": [
    "### 변수\n",
    "int, bool, float, str"
   ]
  },
  {
   "cell_type": "code",
   "execution_count": 6,
   "metadata": {},
   "outputs": [],
   "source": [
    "a = 100"
   ]
  },
  {
   "cell_type": "code",
   "execution_count": 7,
   "metadata": {},
   "outputs": [
    {
     "data": {
      "text/plain": [
       "int"
      ]
     },
     "execution_count": 7,
     "metadata": {},
     "output_type": "execute_result"
    }
   ],
   "source": [
    "type(a)"
   ]
  },
  {
   "cell_type": "code",
   "execution_count": 8,
   "metadata": {},
   "outputs": [],
   "source": [
    "a = \"hello\""
   ]
  },
  {
   "cell_type": "code",
   "execution_count": 10,
   "metadata": {},
   "outputs": [
    {
     "data": {
      "text/plain": [
       "str"
      ]
     },
     "execution_count": 10,
     "metadata": {},
     "output_type": "execute_result"
    }
   ],
   "source": [
    "type(a)"
   ]
  },
  {
   "cell_type": "code",
   "execution_count": 11,
   "metadata": {},
   "outputs": [],
   "source": [
    "a = 100"
   ]
  },
  {
   "cell_type": "code",
   "execution_count": 12,
   "metadata": {},
   "outputs": [
    {
     "data": {
      "text/plain": [
       "'100'"
      ]
     },
     "execution_count": 12,
     "metadata": {},
     "output_type": "execute_result"
    }
   ],
   "source": [
    "str(a)"
   ]
  },
  {
   "cell_type": "code",
   "execution_count": 13,
   "metadata": {},
   "outputs": [
    {
     "data": {
      "text/plain": [
       "int"
      ]
     },
     "execution_count": 13,
     "metadata": {},
     "output_type": "execute_result"
    }
   ],
   "source": [
    "type(a)"
   ]
  },
  {
   "cell_type": "code",
   "execution_count": 14,
   "metadata": {},
   "outputs": [],
   "source": [
    "a = True"
   ]
  },
  {
   "cell_type": "code",
   "execution_count": 15,
   "metadata": {},
   "outputs": [
    {
     "data": {
      "text/plain": [
       "bool"
      ]
     },
     "execution_count": 15,
     "metadata": {},
     "output_type": "execute_result"
    }
   ],
   "source": [
    "type(a)"
   ]
  },
  {
   "cell_type": "markdown",
   "metadata": {},
   "source": [
    "### 대입연산자"
   ]
  },
  {
   "cell_type": "code",
   "execution_count": 22,
   "metadata": {},
   "outputs": [],
   "source": [
    "a = 10"
   ]
  },
  {
   "cell_type": "code",
   "execution_count": 23,
   "metadata": {},
   "outputs": [],
   "source": [
    "a = a + 1"
   ]
  },
  {
   "cell_type": "code",
   "execution_count": 24,
   "metadata": {},
   "outputs": [],
   "source": [
    "a += 2"
   ]
  },
  {
   "cell_type": "code",
   "execution_count": 25,
   "metadata": {},
   "outputs": [
    {
     "data": {
      "text/plain": [
       "13"
      ]
     },
     "execution_count": 25,
     "metadata": {},
     "output_type": "execute_result"
    }
   ],
   "source": [
    "a"
   ]
  },
  {
   "cell_type": "markdown",
   "metadata": {},
   "source": [
    "### input을 사용한 입력\n",
    "입력을 받으면 문자열 str로 받음"
   ]
  },
  {
   "cell_type": "code",
   "execution_count": 28,
   "metadata": {},
   "outputs": [
    {
     "name": "stdout",
     "output_type": "stream",
     "text": [
      "Enter your name: yeeun\n",
      "yeeun\n"
     ]
    }
   ],
   "source": [
    "name = input(\"Enter your name: \")\n",
    "print(name)"
   ]
  },
  {
   "cell_type": "code",
   "execution_count": 29,
   "metadata": {},
   "outputs": [
    {
     "data": {
      "text/plain": [
       "str"
      ]
     },
     "execution_count": 29,
     "metadata": {},
     "output_type": "execute_result"
    }
   ],
   "source": [
    "type(name)"
   ]
  },
  {
   "cell_type": "code",
   "execution_count": 30,
   "metadata": {},
   "outputs": [
    {
     "name": "stdout",
     "output_type": "stream",
     "text": [
      "첫 번째 숫자를 입력하세요: 1\n"
     ]
    }
   ],
   "source": [
    "number = int(input(\"첫 번째 숫자를 입력하세요: \"))"
   ]
  },
  {
   "cell_type": "code",
   "execution_count": 31,
   "metadata": {},
   "outputs": [
    {
     "data": {
      "text/plain": [
       "int"
      ]
     },
     "execution_count": 31,
     "metadata": {},
     "output_type": "execute_result"
    }
   ],
   "source": [
    "type(number)"
   ]
  },
  {
   "cell_type": "markdown",
   "metadata": {},
   "source": [
    "\n",
    "### print 를 사용한 출력"
   ]
  },
  {
   "cell_type": "code",
   "execution_count": 32,
   "metadata": {},
   "outputs": [
    {
     "name": "stdout",
     "output_type": "stream",
     "text": [
      "100 + 200 = 300\n"
     ]
    }
   ],
   "source": [
    "a = 100\n",
    "b = 200\n",
    "result = a + b\n",
    "print(a, \"+\", b, \"=\", result)"
   ]
  },
  {
   "cell_type": "code",
   "execution_count": 37,
   "metadata": {},
   "outputs": [
    {
     "name": "stdout",
     "output_type": "stream",
     "text": [
      "I eat 3 apples\n"
     ]
    }
   ],
   "source": [
    "print(\"I eat %s apples\" %3) #%s는 뒤에 값이 어떤 것이든 문자열로 치환해서 대입"
   ]
  },
  {
   "cell_type": "markdown",
   "metadata": {},
   "source": [
    "### 실습문제 1"
   ]
  },
  {
   "cell_type": "code",
   "execution_count": 47,
   "metadata": {},
   "outputs": [
    {
     "name": "stdout",
     "output_type": "stream",
     "text": [
      "화씨온도: 100\n",
      "섭씨온도: 37.77777777777778\n"
     ]
    }
   ],
   "source": [
    "F = int(input(\"화씨온도: \"))\n",
    "C = (F-32)*(5/9)\n",
    "print(\"섭씨온도:\", C)"
   ]
  },
  {
   "cell_type": "markdown",
   "metadata": {},
   "source": [
    "### 실습문제 2"
   ]
  },
  {
   "cell_type": "code",
   "execution_count": 74,
   "metadata": {},
   "outputs": [
    {
     "name": "stdout",
     "output_type": "stream",
     "text": [
      "투입한 돈: 5000\n",
      "물건값: 2700\n",
      "거스름돈: 2300\n",
      "500원짜리: 4개\n",
      "100원짜리: 3개\n"
     ]
    }
   ],
   "source": [
    "money = int(input(\"투입한 돈: \"))\n",
    "price = int(input(\"물건값: \"))\n",
    "\n",
    "charge = money - price\n",
    "print(\"거스름돈:\", charge)\n",
    "\n",
    "coin5 = charge // 500\n",
    "print(\"500원짜리:\" + ' ' + str(coin5) + \"개\")\n",
    "\n",
    "coin1 = (charge - coin5 * 500) // 100\n",
    "print(\"100원짜리:\" + ' ' + str(coin1) + \"개\")"
   ]
  },
  {
   "cell_type": "markdown",
   "metadata": {},
   "source": [
    "### 실습문제 3"
   ]
  },
  {
   "cell_type": "code",
   "execution_count": 75,
   "metadata": {},
   "outputs": [
    {
     "name": "stdout",
     "output_type": "stream",
     "text": [
      "반지름을 입력하시오: 5\n",
      "원 둘레: 31.42\n",
      "원 넓이: 78.54\n"
     ]
    }
   ],
   "source": [
    "r = int(input(\"반지름을 입력하시오: \"))\n",
    "print(\"원 둘레:\", round(2 * 3.141592 * r,2))\n",
    "print(\"원 넓이:\", round(3.141592 * r**2,2))"
   ]
  },
  {
   "cell_type": "markdown",
   "metadata": {},
   "source": [
    "### 실습문제 4"
   ]
  },
  {
   "cell_type": "code",
   "execution_count": 31,
   "metadata": {},
   "outputs": [
    {
     "name": "stdout",
     "output_type": "stream",
     "text": [
      "Enter two integers: 8 5\n",
      "8 + 5 = 13\n",
      "8 - 5 = 3\n",
      "8 * 5 = 40\n",
      "8 / 5 = 1.6\n",
      "8 % 5 = 3\n"
     ]
    }
   ],
   "source": [
    "numbers = input('Enter two integers: ')\n",
    "a = int(numbers.split(' ')[0])\n",
    "b = int(numbers.split(' ')[1])\n",
    "print(a, \"+\", b, \"=\", a+b)\n",
    "print(a, \"-\", b, \"=\", a-b)\n",
    "print(a, \"*\", b, \"=\", a*b)\n",
    "print(a, \"/\", b, \"=\", a/b)\n",
    "print(a, \"%\", b, \"=\", a%b)"
   ]
  },
  {
   "cell_type": "code",
   "execution_count": 52,
   "metadata": {},
   "outputs": [
    {
     "name": "stdout",
     "output_type": "stream",
     "text": [
      "Enter two integers: 8 5\n",
      "8 + 5 = 13\n",
      "8 - 5 = 3\n",
      "8 * 5 = 40\n",
      "8 / 5 = 1.6\n",
      "8 % 5 = 3\n"
     ]
    }
   ],
   "source": [
    "numbers = input('Enter two integers: ')\n",
    "a = int(numbers.split(' ')[0])\n",
    "b = int(numbers.split(' ')[1])\n",
    "print(\"{} + {} = {}\".format(a,b,a+b))\n",
    "print(\"{} - {} = {}\".format(a,b,a-b))\n",
    "print(\"{} * {} = {}\".format(a,b,a*b))\n",
    "print(\"{} / {} = {}\".format(a,b,a/b))\n",
    "print(\"{} % {} = {}\".format(a,b,a%b))"
   ]
  },
  {
   "cell_type": "markdown",
   "metadata": {},
   "source": [
    "### 실습문제 5"
   ]
  },
  {
   "cell_type": "code",
   "execution_count": 27,
   "metadata": {},
   "outputs": [
    {
     "name": "stdout",
     "output_type": "stream",
     "text": [
      "Enter two integers: 70 91\n",
      "The sum of 70 and 91 is 161\n",
      "The average of numbers is 80.5\n"
     ]
    }
   ],
   "source": [
    "numbers = input('Enter two integers: ')\n",
    "a = int(numbers.split(' ')[0])\n",
    "b = int(numbers.split(' ')[1])\n",
    "print(\"The sum of %s and %s is %s\"%(a,b,a+b))\n",
    "print(\"The average of numbers is %.1f\"%((a+b)/2))"
   ]
  },
  {
   "cell_type": "code",
   "execution_count": 53,
   "metadata": {},
   "outputs": [
    {
     "name": "stdout",
     "output_type": "stream",
     "text": [
      "Enter two integers: 70 91\n",
      "The sum of 70 and 91 is 161\n",
      "The average of numbers is 80.5\n"
     ]
    }
   ],
   "source": [
    "numbers = input('Enter two integers: ')\n",
    "a = int(numbers.split(' ')[0])\n",
    "b = int(numbers.split(' ')[1])\n",
    "print(f'The sum of {a} and {b} is {a+b}')\n",
    "print(f'The average of numbers is {round((a+b)/2,1)}')"
   ]
  },
  {
   "cell_type": "markdown",
   "metadata": {},
   "source": [
    "### 실습문제 6"
   ]
  },
  {
   "cell_type": "code",
   "execution_count": 39,
   "metadata": {},
   "outputs": [
    {
     "name": "stdout",
     "output_type": "stream",
     "text": [
      "날짜(연/월/일)입력: 2020/11/02\n",
      "입력한 날짜의 10년 후는 2030년 11월 2일\n"
     ]
    }
   ],
   "source": [
    "date = input('날짜(연/월/일)입력: ')\n",
    "a = int(date.split(\"/\")[0])\n",
    "b = int(date.split(\"/\")[1])\n",
    "c = int(date.split(\"/\")[2])\n",
    "print(\"입력한 날짜의 10년 후는 %s년 %s월 %s일\"%(a+10, b, c))"
   ]
  }
 ],
 "metadata": {
  "kernelspec": {
   "display_name": "Python 3",
   "language": "python",
   "name": "python3"
  },
  "language_info": {
   "codemirror_mode": {
    "name": "ipython",
    "version": 3
   },
   "file_extension": ".py",
   "mimetype": "text/x-python",
   "name": "python",
   "nbconvert_exporter": "python",
   "pygments_lexer": "ipython3",
   "version": "3.8.3"
  }
 },
 "nbformat": 4,
 "nbformat_minor": 4
}
