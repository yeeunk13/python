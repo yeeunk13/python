{
 "cells": [
  {
   "cell_type": "markdown",
   "metadata": {},
   "source": [
    "### 과제 1"
   ]
  },
  {
   "cell_type": "code",
   "execution_count": 236,
   "metadata": {},
   "outputs": [
    {
     "name": "stdout",
     "output_type": "stream",
     "text": [
      "13는 소수입니다.\n",
      "15는 소수가 아닙니다.\n"
     ]
    }
   ],
   "source": [
    "def check_prime(num):\n",
    "    cnt = 0\n",
    "    for i in range(2,num):\n",
    "        if num % i == 0:\n",
    "            cnt += 1\n",
    "        else:\n",
    "            pass\n",
    "    if cnt == 0 :\n",
    "        return True\n",
    "    else:\n",
    "        return False\n",
    "\n",
    "\n",
    "def main():\n",
    "    a = 13\n",
    "    b = 15\n",
    "    \n",
    "    if check_prime(a):\n",
    "        print(str(a)+'는 소수입니다.')\n",
    "    else:\n",
    "        print(str(a)+'는 소수가 아닙니다.')\n",
    "        \n",
    "    if check_prime(b):\n",
    "        print(str(b)+'는 소수입니다.')\n",
    "    else:\n",
    "        print(str(b)+'는 소수가 아닙니다.')\n",
    "        \n",
    "if __name__ == '__main__':\n",
    "    main()"
   ]
  },
  {
   "cell_type": "markdown",
   "metadata": {},
   "source": [
    "### 과제 2"
   ]
  },
  {
   "cell_type": "code",
   "execution_count": 237,
   "metadata": {},
   "outputs": [
    {
     "name": "stdout",
     "output_type": "stream",
     "text": [
      "1,234\n",
      "12,345,678\n",
      "12\n"
     ]
    }
   ],
   "source": [
    "def add_comma(val):\n",
    "    val = str(val)\n",
    "    sen = []\n",
    "    for i in val:\n",
    "        sen.append(i)    \n",
    "    sen.reverse()\n",
    "    a = len(sen) % 3\n",
    "    if a == 0:\n",
    "        result = (len(sen)/3) -1\n",
    "    else:\n",
    "        result = len(sen)/3\n",
    "    result    \n",
    "    for t in range(1,int(result)+1):\n",
    "        if t == 1:\n",
    "            sen.insert(3*t,',')\n",
    "        else:\n",
    "            sen.insert(3+(4*(t-1)),',')\n",
    "    sen.reverse()\n",
    "    sen = ''.join(sen)\n",
    "    return sen\n",
    "\n",
    "def main():\n",
    "    comma_added_1234 = add_comma(1234)\n",
    "    comma_added_12345678 = add_comma(12345678)\n",
    "    comma_added_12 = add_comma(12)\n",
    "    \n",
    "    print(comma_added_1234)\n",
    "    print(comma_added_12345678)\n",
    "    print(comma_added_12)\n",
    "    \n",
    "if __name__ == '__main__':\n",
    "    main()"
   ]
  },
  {
   "cell_type": "markdown",
   "metadata": {},
   "source": [
    "### 과제3"
   ]
  },
  {
   "cell_type": "code",
   "execution_count": 238,
   "metadata": {},
   "outputs": [
    {
     "name": "stdout",
     "output_type": "stream",
     "text": [
      "['There', 'was', 'a', 'farmer', 'who', 'had', 'a', 'dog', '.']\n",
      "['There was', 'was a', 'a farmer', 'farmer who', 'who had', 'had a', 'a dog', 'dog .']\n"
     ]
    }
   ],
   "source": [
    "def tokenize(trg, N=1):\n",
    "    trg = trg.split()\n",
    "    first = range(len(trg))\n",
    "    second = range(N, len(trg)+1)\n",
    "    \n",
    "    a_list = []\n",
    "    for i,j in zip(first,second):\n",
    "        sen = ' '.join(trg[i:j])\n",
    "        a_list.append(sen)\n",
    "    return a_list\n",
    "\n",
    "def main():\n",
    "    a = \"There was a farmer who had a dog .\"\n",
    "    print(tokenize(a))\n",
    "    print(tokenize(a,2))\n",
    "    \n",
    "if __name__ == '__main__':\n",
    "    main()"
   ]
  },
  {
   "cell_type": "markdown",
   "metadata": {},
   "source": [
    "### 과제4"
   ]
  },
  {
   "cell_type": "code",
   "execution_count": 239,
   "metadata": {},
   "outputs": [
    {
     "name": "stdout",
     "output_type": "stream",
     "text": [
      "평균:  [0.5, 0.5]\n",
      "분산:  [0.16666666666666666, 0.16666666666666666]\n"
     ]
    }
   ],
   "source": [
    "def mean_and_var(*val):\n",
    "\n",
    "    sum_list1 = []\n",
    "    sum_list2 = []\n",
    "    var_list1 = []\n",
    "    var_list2 = []\n",
    "    for i in val:\n",
    "        sum_list1.append(i[0])\n",
    "        result1 = sum(sum_list1)/len(val)\n",
    "        sum_list2.append(i[1])\n",
    "        result2 = sum(sum_list2)/len(val)\n",
    "    for j in val:\n",
    "        var_list1.append((result1 - j[0])*(result1-j[0]))\n",
    "        result3 = sum(var_list1)/len(val)\n",
    "        var_list2.append((result2 - j[1])*(result2-j[1]))\n",
    "        result4 = sum(var_list2)/len(val)\n",
    "\n",
    "    return [result1,result2],[result3,result4] \n",
    "\n",
    "def main():\n",
    "    v1 = (0,1)\n",
    "    v2 = (0.5,0.5)\n",
    "    v3 = (1,0)\n",
    "    m, var = mean_and_var(v1,v2,v3)\n",
    "    print('평균: ', m)\n",
    "    print('분산: ', var)\n",
    "    \n",
    "if __name__ == '__main__':\n",
    "    main()"
   ]
  }
 ],
 "metadata": {
  "kernelspec": {
   "display_name": "Python 3",
   "language": "python",
   "name": "python3"
  },
  "language_info": {
   "codemirror_mode": {
    "name": "ipython",
    "version": 3
   },
   "file_extension": ".py",
   "mimetype": "text/x-python",
   "name": "python",
   "nbconvert_exporter": "python",
   "pygments_lexer": "ipython3",
   "version": "3.8.3"
  }
 },
 "nbformat": 4,
 "nbformat_minor": 4
}
