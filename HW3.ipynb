{
 "cells": [
  {
   "cell_type": "markdown",
   "metadata": {},
   "source": [
    "### 반복문-문제11"
   ]
  },
  {
   "cell_type": "code",
   "execution_count": 3,
   "metadata": {},
   "outputs": [
    {
     "name": "stdout",
     "output_type": "stream",
     "text": [
      "input an integer: 3159\n",
      "★★★\n",
      "★\n",
      "★★★★★\n",
      "★★★★★★★★★\n"
     ]
    }
   ],
   "source": [
    "num = input(\"input an integer: \")\n",
    "for i in num:\n",
    "    print(\"★\"*int(i))"
   ]
  },
  {
   "cell_type": "code",
   "execution_count": 6,
   "metadata": {},
   "outputs": [
    {
     "name": "stdout",
     "output_type": "stream",
     "text": [
      "input an integer: 3159\n",
      "★★★\n",
      "★\n",
      "★★★★★\n",
      "★★★★★★★★★\n"
     ]
    }
   ],
   "source": [
    "num = input(\"input an integer: \")\n",
    "for i in num:\n",
    "    for y in range(int(i)):\n",
    "        print(\"★\", end = \"\")\n",
    "    print()"
   ]
  },
  {
   "cell_type": "markdown",
   "metadata": {},
   "source": [
    "### 반복문-문제12"
   ]
  },
  {
   "cell_type": "code",
   "execution_count": 14,
   "metadata": {},
   "outputs": [
    {
     "name": "stdout",
     "output_type": "stream",
     "text": [
      "Enter a number: 7\n",
      "Enter a number: 2\n",
      "Enter a number: 9\n",
      "Enter a number: 3\n",
      "Enter a number: 5\n",
      "Enter a number: done\n",
      "\n",
      "[7.0, 2.0, 9.0, 3.0, 5.0]\n",
      "Average: 5.2\n",
      "Maximum: 9.0\n",
      "Minimum: 2.0\n"
     ]
    }
   ],
   "source": [
    "nums = []\n",
    "while True:\n",
    "    num = input(\"Enter a number: \")\n",
    "    if num != 'done':\n",
    "        nums.append(float(num))\n",
    "    else:\n",
    "        break\n",
    "\n",
    "print()\n",
    "print(nums)\n",
    "print('Average: %.1f'%(sum(nums)/len(nums)))\n",
    "print('Maximum: %.1f'%max(nums))\n",
    "print('Minimum: %.1f'%min(nums))"
   ]
  },
  {
   "cell_type": "code",
   "execution_count": 16,
   "metadata": {},
   "outputs": [
    {
     "name": "stdout",
     "output_type": "stream",
     "text": [
      "Enter a number: 7\n",
      "Enter a number: 2\n",
      "Enter a number: 9\n",
      "Enter a number: 3\n",
      "Enter a number: 5\n",
      "Enter a number: done\n",
      "\n",
      "[7.0, 2.0, 9.0, 3.0, 5.0]\n",
      "Average: 5.2\n",
      "Maximum: 9.0\n",
      "Minimum: 2.0\n"
     ]
    }
   ],
   "source": [
    "nums = []\n",
    "while True:\n",
    "    num = input(\"Enter a number: \")\n",
    "    if num == 'done':\n",
    "        break\n",
    "    nums.append(float(num))\n",
    "\n",
    "print()\n",
    "print(nums)\n",
    "print('Average: %.1f'%(sum(nums)/len(nums)))\n",
    "print('Maximum: %.1f'%max(nums))\n",
    "print('Minimum: %.1f'%min(nums))"
   ]
  },
  {
   "cell_type": "markdown",
   "metadata": {},
   "source": [
    "### 딕셔너리- 실습1"
   ]
  },
  {
   "cell_type": "code",
   "execution_count": 26,
   "metadata": {},
   "outputs": [
    {
     "name": "stdout",
     "output_type": "stream",
     "text": [
      "1 2 10 "
     ]
    }
   ],
   "source": [
    "d ={'youn':1,'park':2,'kim':10}\n",
    "\n",
    "for value in d.values():\n",
    "    print(value, end=' ')"
   ]
  },
  {
   "cell_type": "code",
   "execution_count": 27,
   "metadata": {},
   "outputs": [
    {
     "name": "stdout",
     "output_type": "stream",
     "text": [
      "1 2 10 "
     ]
    }
   ],
   "source": [
    "for key in d.keys():\n",
    "    print(d[key], end = ' ')"
   ]
  },
  {
   "cell_type": "code",
   "execution_count": 29,
   "metadata": {},
   "outputs": [
    {
     "name": "stdout",
     "output_type": "stream",
     "text": [
      "1 2 10 "
     ]
    }
   ],
   "source": [
    "for item in d.items():\n",
    "    key, value = item\n",
    "    print(value, end = ' ')"
   ]
  },
  {
   "cell_type": "markdown",
   "metadata": {},
   "source": [
    "### 딕셔너리- 실습2"
   ]
  },
  {
   "cell_type": "code",
   "execution_count": 35,
   "metadata": {},
   "outputs": [
    {
     "name": "stdout",
     "output_type": "stream",
     "text": [
      "five 5\n",
      "four 4\n",
      "one 1\n",
      "three 3\n",
      "two 2\n"
     ]
    }
   ],
   "source": [
    "a = {'one':1,'two':2,'three':3,'four':4,'five':5}\n",
    "for key, value in sorted(a.items()):\n",
    "        print(key, value)"
   ]
  },
  {
   "cell_type": "markdown",
   "metadata": {},
   "source": [
    "### 딕셔너리- 실습3"
   ]
  },
  {
   "cell_type": "code",
   "execution_count": 37,
   "metadata": {},
   "outputs": [
    {
     "name": "stdout",
     "output_type": "stream",
     "text": [
      "Enter a sentence: Python is fun!\n",
      "{'o': 1, 'f': 1, 'P': 1, 'i': 1, 'h': 1, 's': 1, 'y': 1, ' ': 2, 'n': 2, 'u': 1, 't': 1, '!': 1}"
     ]
    }
   ],
   "source": [
    "dic = {}\n",
    "sen = input(\"Enter a sentence: \")\n",
    "sen_set = set(sen)\n",
    "\n",
    "for i in sen_set:\n",
    "    dic[i] = sen.count(i)\n",
    "print(dic, end = '')"
   ]
  },
  {
   "cell_type": "code",
   "execution_count": 49,
   "metadata": {},
   "outputs": [
    {
     "name": "stdout",
     "output_type": "stream",
     "text": [
      "Enter a sentence: Python is fun!\n",
      "{'P': 1, 'y': 1, 't': 1, 'h': 1, 'o': 1, 'n': 2, ' ': 2, 'i': 1, 's': 1, 'f': 1, 'u': 1, '!': 1}"
     ]
    }
   ],
   "source": [
    "dic = {}\n",
    "sen = input(\"Enter a sentence: \")\n",
    "\n",
    "for i in sen:\n",
    "    if i in dic:\n",
    "        dic[i] += 1\n",
    "    else:\n",
    "        dic[i] = 1\n",
    "print(dic, end = '')"
   ]
  },
  {
   "cell_type": "markdown",
   "metadata": {},
   "source": [
    "### 파일- 실습3"
   ]
  },
  {
   "cell_type": "code",
   "execution_count": 47,
   "metadata": {},
   "outputs": [
    {
     "name": "stdout",
     "output_type": "stream",
     "text": [
      "first 1\n",
      "line 3\n",
      "second 1\n",
      "third 1\n"
     ]
    }
   ],
   "source": [
    "fr = open('test.txt','r')\n",
    "data = fr.read()\n",
    "fr.close()\n",
    "\n",
    "info = {}\n",
    "data.split()\n",
    "for i in data.split():\n",
    "    if i in info:\n",
    "        info[i] += 1\n",
    "    else:\n",
    "        info[i] = 1\n",
    "\n",
    "for key, value in (info.items()):\n",
    "        print(key, value)"
   ]
  },
  {
   "cell_type": "markdown",
   "metadata": {},
   "source": [
    "### 파일 - 실습4"
   ]
  },
  {
   "cell_type": "code",
   "execution_count": 40,
   "metadata": {},
   "outputs": [],
   "source": [
    "f = open('score.txt','r')\n",
    "lines = f.read()\n",
    "f.close()\n",
    "lines = lines.split('\\n')\n",
    "\n",
    "fw = open('report.txt','w')\n",
    "\n",
    "for i in range(len(lines)):\n",
    "    mid = int(lines[i][7:9])\n",
    "    final = int(lines[i][10:12])\n",
    "    avg = (mid + final) / 2\n",
    "\n",
    "    if avg >= 90:\n",
    "        fw.write(f'{lines[i]}  {avg}(A)\\n')\n",
    "    elif avg >= 80:\n",
    "        fw.write(f'{lines[i]}  {avg}(B)\\n')\n",
    "    elif avg >= 70:\n",
    "        fw.write(f'{lines[i]}  {avg}(C)\\n')\n",
    "    elif avg >= 60:\n",
    "        fw.write(f'{lines[i]}  {avg}(D)\\n')\n",
    "    else:\n",
    "        fw.write(f'{lines[i]}  {avg}(F)\\n')\n",
    "\n",
    "fw.close()"
   ]
  }
 ],
 "metadata": {
  "kernelspec": {
   "display_name": "Python 3",
   "language": "python",
   "name": "python3"
  },
  "language_info": {
   "codemirror_mode": {
    "name": "ipython",
    "version": 3
   },
   "file_extension": ".py",
   "mimetype": "text/x-python",
   "name": "python",
   "nbconvert_exporter": "python",
   "pygments_lexer": "ipython3",
   "version": "3.8.3"
  }
 },
 "nbformat": 4,
 "nbformat_minor": 4
}
