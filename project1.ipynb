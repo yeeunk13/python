{
 "cells": [
  {
   "cell_type": "code",
   "execution_count": 15,
   "metadata": {},
   "outputs": [
    {
     "name": "stdout",
     "output_type": "stream",
     "text": [
      "\n"
     ]
    }
   ],
   "source": [
    "import os\n",
    "\n",
    "file_name = input()\n",
    "if os.path.exists(file_name) or file_name == '':\n",
    "    with open('students.txt','r') as f:\n",
    "        data = f.read()\n",
    "        data1 = data.split('\\n')\n",
    "        stu_list = []\n",
    "        for i in data1:\n",
    "            stu_list.append(i.split('\\t'))\n",
    "stu_list.pop(-1)\n",
    "names = []\n",
    "for stu in stu_list:\n",
    "     names.append(stu.pop(1).split()[1])\n",
    "#for i, j in names, stu_list:\n",
    " #   i = "
   ]
  },
  {
   "cell_type": "code",
   "execution_count": 53,
   "metadata": {},
   "outputs": [
    {
     "name": "stdout",
     "output_type": "stream",
     "text": [
      "\n",
      "changescore\n",
      "Student ID: 20180002\n",
      "Mid/Final?mid\n",
      "Input new score: 78\n",
      " Student               Name   Midterm  Final  Average  Grade\n",
      "---------------------------------------------------------------\n",
      "20180002\tLee Jieun\t92\t89\t90.5\tA\n",
      "Score changed.\n",
      "20180002\tLee Jieun\t78\t89\t83.5\tB\n",
      "show\n"
     ]
    }
   ],
   "source": [
    "import os\n",
    "import copy\n",
    "\n",
    "file_name = input()\n",
    "if os.path.exists(file_name) or file_name == '':\n",
    "    with open('students.txt','r') as f:\n",
    "        data = f.read()\n",
    "        data = data.split('\\n')\n",
    "        stu_list = []\n",
    "        for i in data:\n",
    "            stu_list.append(i.split('\\t'))\n",
    "        stu_list.sort(key=lambda e : e[3],reverse=True)\n",
    "        for i in stu_list:\n",
    "            avg, grade = avg_1(i[2],i[3])\n",
    "            print(avg, grade)\n",
    "#            avg = (int(stu_list[i][2]) + int(stu_list[i][3]))/2\n",
    " #           stu_list[i].append(str(avg))\n",
    "  #          if int(avg) >= 90:\n",
    "   #             stu_list[i].append('A')\n",
    "    #        elif int(avg) >= 80:\n",
    "     #           stu_list[i].append('B')\n",
    "      #      elif int(avg) >= 70:\n",
    "       #         stu_list[i].append('C')\n",
    "        #    elif int(avg) >= 60:\n",
    "         #       stu_list[i].append('D')\n",
    "          #  else:\n",
    "           #     stu_list[i].append('F')\n",
    "    stu_list.sort(key=lambda e : e[4],reverse=True)\n",
    "\n",
    "a = input()\n",
    "a = a.lower()\n",
    "\n",
    "def avg_1(a, b):\n",
    "    avg = (a + b)/2\n",
    "    if avg >= 90:\n",
    "        grade = 'A'\n",
    "    elif int(avg) >= 80:\n",
    "        grade = 'B'\n",
    "    elif int(avg) >= 70:\n",
    "        grade = 'C'\n",
    "    elif int(avg) >= 60:\n",
    "        grade = 'D'\n",
    "    else:\n",
    "        grade = 'F'\n",
    "    return avg_1, grade\n",
    "\n",
    "#show 설정\n",
    "if a == 'show':\n",
    "    print(' Student'+' '*15+'Name'+'   Midterm'+'  Final'+'  Average'+'  Grade')\n",
    "    print('-'*63)\n",
    "    for i in stu_list:\n",
    "        print('\\t'.join(i))\n",
    "        a = input()\n",
    "\n",
    "        \n",
    "#search 설정        \n",
    "elif a == 'search':\n",
    "    stu_id = input('Student ID: ')\n",
    "    cnt = 0\n",
    "    for i in stu_list:\n",
    "        if i[0] == stu_id:\n",
    "            cnt += 1\n",
    "            print(' Student'+' '*15+'Name'+'   Midterm'+'  Final'+'  Average'+'  Grade')\n",
    "            print('-'*63)\n",
    "            print()\n",
    "            print('\\t'.join(i))\n",
    "            a = input()\n",
    "\n",
    "        else:\n",
    "            pass\n",
    "    if cnt == 0:\n",
    "        print('NO SUCH PERSON.')\n",
    "        a = input()\n",
    "\n",
    "        \n",
    "#changescore 설정        \n",
    "elif a == 'changescore':\n",
    "    stu_id = input('Student ID: ')\n",
    "    cnt = 0\n",
    "    stu_list1 = copy.deepcopy(stu_list)\n",
    "    for i in stu_list1:\n",
    "        if i[0] == stu_id:\n",
    "            cnt += 1\n",
    "    if cnt == 0:\n",
    "        print('NO SUCH PERSON.')\n",
    "        a = input()\n",
    "    else:\n",
    "        b = input('Mid/Final?')\n",
    "        if b != 'mid':\n",
    "            a = input()            \n",
    "        else:\n",
    "            c = input('Input new score: ')\n",
    "            if int(c) > 100 or int(c) < 0:\n",
    "                a = input()\n",
    "            else:\n",
    "                for i, j in zip(stu_list1, stu_list):\n",
    "                    if i[0] == stu_id:\n",
    "                        i[2] = c\n",
    "                        avg = (int(i[2]) +int(i[3]))/2\n",
    "                        i[4] = str(avg)\n",
    "                        if int(avg) >= 90:\n",
    "                            i[5] = 'A'\n",
    "                        elif int(avg) >= 80:\n",
    "                            i[5] = 'B'\n",
    "                        elif int(avg) >= 70:\n",
    "                            i[5] = 'C'\n",
    "                        elif int(avg) >= 60:\n",
    "                            i[5] = 'D'\n",
    "                        else:\n",
    "                            i[5] = 'F'\n",
    "                        print(' Student'+' '*15+'Name'+'   Midterm'+'  Final'+'  Average'+'  Grade')\n",
    "                        print('-'*63)\n",
    "                        print('\\t'.join(j))\n",
    "                        print('Score changed.')\n",
    "                        print('\\t'.join(i))\n",
    "                        a = input()\n",
    "        if b == 'final':\n",
    "            c = input('Input new score: ')\n",
    "            if int(c) > 100 or if a == 'show':\n",
    "    print(' Student'+' '*15+'Name'+'   Midterm'+'  Final'+'  Average'+'  Grade')\n",
    "    print('-'*63)\n",
    "    for i in stu_list:\n",
    "        print('\\t'.join(i))\n",
    "        a = input()\n",
    "int(c) < 0:\n",
    "                a = input()\n",
    "            else:\n",
    "                for i in int,stu_list1:\n",
    "                    if i[0] == stu_id:\n",
    "                        i[3] = c\n",
    "                        avg = (int(i[2]) +int(i[3]))/2\n",
    "                        i[4] = str(avg)\n",
    "                        if int(avg) >= 90:\n",
    "                            i[5] = 'A'\n",
    "                        elif int(avg) >= 80:\n",
    "                            i[5] = 'B'\n",
    "                        elif int(avg) >= 70:\n",
    "                            i[5] = 'C'\n",
    "                        elif int(avg) >= 60:\n",
    "                            i[5] = 'D'\n",
    "                        else:\n",
    "                            i[5] = 'F'\n",
    "                        print(' Student'+' '*15+'Name'+'   Midterm'+'  Final'+'  Average'+'  Grade')\n",
    "                        print('-'*63)\n",
    "                        print('Score changed.')\n",
    "                        print('\\t'.join(i))\n",
    "        stu_list = stu_list1\n",
    "                    \n",
    "            "
   ]
  },
  {
   "cell_type": "code",
   "execution_count": 41,
   "metadata": {},
   "outputs": [
    {
     "name": "stdout",
     "output_type": "stream",
     "text": [
      "\n",
      "[['20180001', 'Hong Gildong', '84', '73'], ['20180002', 'Lee Jieun', '92', '89'], ['20180007', 'Kim Cheolsu', '57', '62'], ['20180009', 'Lee Yeonghee', '81', '84'], ['20180011', 'Ha Donghun', '58', '68']]\n"
     ]
    }
   ],
   "source": [
    "import os\n",
    "import copy\n",
    "\n",
    "file_name = input()\n",
    "if os.path.exists(file_name) or file_name == '':\n",
    "    with open('students.txt','r') as f:\n",
    "        data = f.read()\n",
    "        data = data.split('\\n')\n",
    "        stu_list = []\n",
    "        for i in data:\n",
    "            stu_list.append(i.split('\\t'))\n",
    "        print(stu_list)\n"
   ]
  },
  {
   "cell_type": "code",
   "execution_count": null,
   "metadata": {},
   "outputs": [],
   "source": [
    "stu_list1[0]"
   ]
  },
  {
   "cell_type": "code",
   "execution_count": 93,
   "metadata": {},
   "outputs": [
    {
     "data": {
      "text/plain": [
       "'90.5'"
      ]
     },
     "execution_count": 93,
     "metadata": {},
     "output_type": "execute_result"
    }
   ],
   "source": [
    "str(90.5)"
   ]
  },
  {
   "cell_type": "code",
   "execution_count": 158,
   "metadata": {},
   "outputs": [
    {
     "data": {
      "text/plain": [
       "'show'"
      ]
     },
     "execution_count": 158,
     "metadata": {},
     "output_type": "execute_result"
    }
   ],
   "source": [
    "a = 'ShOw'\n",
    "a.lower()\n"
   ]
  },
  {
   "cell_type": "code",
   "execution_count": 34,
   "metadata": {},
   "outputs": [
    {
     "data": {
      "text/plain": [
       "[1, 2, 4]"
      ]
     },
     "execution_count": 34,
     "metadata": {},
     "output_type": "execute_result"
    }
   ],
   "source": [
    "b = [1,2,3]\n",
    "a = b\n",
    "a[2] = 4\n",
    "b"
   ]
  },
  {
   "cell_type": "code",
   "execution_count": 154,
   "metadata": {},
   "outputs": [
    {
     "name": "stdout",
     "output_type": "stream",
     "text": [
      "\n",
      "add\n",
      "Student ID: 2432\n",
      "NO SUCH PERSON\n",
      "ALREADY EXISTS\n"
     ]
    }
   ],
   "source": [
    "import os\n",
    "import copy\n",
    "\n",
    "def avg_1(a, b):\n",
    "    avg = (a + b) /2\n",
    "    if avg >= 90:\n",
    "        grade = 'A'\n",
    "    elif int(avg) >= 80:\n",
    "        grade = 'B'\n",
    "    elif int(avg) >= 70:\n",
    "        grade = 'C'\n",
    "    elif int(avg) >= 60:\n",
    "        grade = 'D'\n",
    "    else:\n",
    "        grade = 'F'\n",
    "    return avg, grade\n",
    "\n",
    "def show():\n",
    "    print(' Student'+' '*15+'Name'+'   Midterm'+'  Final'+'  Average'+'  Grade')\n",
    "    print('-'*63)\n",
    "    \n",
    "def search(a, list):\n",
    "    cnt = 0\n",
    "    for i in stu_list:\n",
    "        if i[0] == a:\n",
    "            cnt += 1\n",
    "            print('\\t'.join(i))\n",
    "        else:\n",
    "            pass\n",
    "    if cnt == 0:\n",
    "        print('NO SUCH PERSON')\n",
    "        \n",
    "def changescore(c, n):\n",
    "    if int(c) > 100 or int(c) < 0:\n",
    "        pass\n",
    "    else:\n",
    "        for i, j in zip(stu_list1, stu_list):\n",
    "            if i[0] == stu_id:\n",
    "                i[n] = c\n",
    "                avg, grade = avg_1(int(i[2]), int(i[3]))\n",
    "                i[4] = (str(avg))\n",
    "                i[5] = (grade)\n",
    "                show()\n",
    "                print('\\t'.join(j))\n",
    "                print('Score changed.')\n",
    "                print('\\t'.join(i))\n",
    "    \n",
    "file_name = input()\n",
    "if os.path.exists(file_name) or file_name == '':\n",
    "    with open('students.txt','r') as f:\n",
    "        data = f.read()\n",
    "        data = data.split('\\n')\n",
    "        stu_list = []\n",
    "        for i in data:\n",
    "            stu_list.append(i.split('\\t'))\n",
    "        stu_list.sort(key=lambda e : e[3],reverse=True)\n",
    "        for i in stu_list:\n",
    "            avg, grade = avg_1(int(i[2]),int(i[3]))\n",
    "            i.append(str(avg))\n",
    "            i.append(grade)\n",
    "a = input()\n",
    "a = a.lower()\n",
    "\n",
    "#show 설정\n",
    "if a == 'show':\n",
    "    show()\n",
    "    for i in stu_list:\n",
    "        print('\\t'.join(i))\n",
    "\n",
    "#search 설정        \n",
    "elif a == 'search':\n",
    "    stu_id = input('Student ID: ')\n",
    "    show()\n",
    "    search(stu_id, stu_list)\n",
    "    \n",
    "#changescore 설정\n",
    "elif a == 'changescore':\n",
    "    stu_id = input('Student ID: ')\n",
    "    stu_list1 = copy.deepcopy(stu_list)\n",
    "    a = search(stu_id, stu_list)\n",
    "    for i in stu_list1:\n",
    "        if i[0] == stu_id:\n",
    "            b = input('Mid/Final?')\n",
    "            if b == 'mid':\n",
    "                c = input('Input new score: ')\n",
    "                changescore(c, 2)\n",
    "            elif b == 'final':\n",
    "                c = input('Input new score: ')\n",
    "                changescore(c, 3)\n",
    "#add 설정\n",
    "elif a == 'add':\n",
    "    stu_id = input('Student ID: ')\n",
    "    if search(stu_id, stu_list) == None:\n",
    "        print('ALREADY EXISTS')\n",
    "    else:\n",
    "        d = input('Name :')\n",
    "    \n",
    "    "
   ]
  },
  {
   "cell_type": "code",
   "execution_count": 139,
   "metadata": {},
   "outputs": [
    {
     "name": "stdout",
     "output_type": "stream",
     "text": [
      "0\n"
     ]
    }
   ],
   "source": [
    "def abd (a):\n",
    "    if a == 1:\n",
    "        return \n",
    "    else:\n",
    "        return '0'\n",
    "        \n",
    "print(abd(0))"
   ]
  },
  {
   "cell_type": "code",
   "execution_count": 140,
   "metadata": {},
   "outputs": [
    {
     "name": "stdout",
     "output_type": "stream",
     "text": [
      "0\n"
     ]
    }
   ],
   "source": [
    "print(abd(0))"
   ]
  },
  {
   "cell_type": "code",
   "execution_count": null,
   "metadata": {},
   "outputs": [],
   "source": []
  }
 ],
 "metadata": {
  "kernelspec": {
   "display_name": "Python 3",
   "language": "python",
   "name": "python3"
  },
  "language_info": {
   "codemirror_mode": {
    "name": "ipython",
    "version": 3
   },
   "file_extension": ".py",
   "mimetype": "text/x-python",
   "name": "python",
   "nbconvert_exporter": "python",
   "pygments_lexer": "ipython3",
   "version": "3.8.3"
  }
 },
 "nbformat": 4,
 "nbformat_minor": 4
}
