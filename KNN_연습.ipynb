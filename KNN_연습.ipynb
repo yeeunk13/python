{
 "cells": [
  {
   "cell_type": "code",
   "execution_count": 2,
   "metadata": {
    "id": "xiasF70ER8bh"
   },
   "outputs": [],
   "source": [
    "import pandas as pd\n",
    "import matplotlib.pyplot as plt\n",
    "import matplotlib\n",
    "import seaborn as sns\n",
    "\n",
    "from sklearn.preprocessing import StandardScaler\n",
    "from sklearn.model_selection import train_test_split\n",
    "from sklearn.neighbors import KNeighborsClassifier\n",
    "from sklearn.model_selection import GridSearchCV\n",
    "from sklearn.metrics import confusion_matrix"
   ]
  },
  {
   "cell_type": "code",
   "execution_count": 3,
   "metadata": {
    "colab": {
     "base_uri": "https://localhost:8080/"
    },
    "executionInfo": {
     "elapsed": 1087,
     "status": "ok",
     "timestamp": 1605846023114,
     "user": {
      "displayName": "KyeongHyeon So",
      "photoUrl": "",
      "userId": "10802110928116016737"
     },
     "user_tz": -540
    },
    "id": "R9AtWNT-TCiD",
    "outputId": "92b9bdbe-b6e1-4d84-f185-a3e7e91ad979"
   },
   "outputs": [
    {
     "data": {
      "text/plain": [
       "(3748, 13)"
      ]
     },
     "execution_count": 3,
     "metadata": {},
     "output_type": "execute_result"
    }
   ],
   "source": [
    "df_raw = pd.read_csv('/home/piai/Downloads/HMEQ.csv', engine = 'python')\n",
    "df_raw.shape"
   ]
  },
  {
   "cell_type": "code",
   "execution_count": 4,
   "metadata": {
    "colab": {
     "base_uri": "https://localhost:8080/"
    },
    "executionInfo": {
     "elapsed": 1084,
     "status": "ok",
     "timestamp": 1605846025816,
     "user": {
      "displayName": "KyeongHyeon So",
      "photoUrl": "",
      "userId": "10802110928116016737"
     },
     "user_tz": -540
    },
    "id": "lDWr3TK3ZQMT",
    "outputId": "0c5cc2cf-18f2-41e1-b61c-7aa9a74aa758"
   },
   "outputs": [
    {
     "data": {
      "text/plain": [
       "BAD        0\n",
       "LOAN       0\n",
       "MORTDUE    0\n",
       "VALUE      0\n",
       "REASON     0\n",
       "JOB        0\n",
       "YOJ        0\n",
       "DEROG      0\n",
       "DELINQ     0\n",
       "CLAGE      0\n",
       "NINQ       0\n",
       "CLNO       0\n",
       "DEBTINC    0\n",
       "dtype: int64"
      ]
     },
     "execution_count": 4,
     "metadata": {},
     "output_type": "execute_result"
    }
   ],
   "source": [
    "# 결측치 제거\n",
    "df_raw['JOB'].fillna('Other',inplace = True)\n",
    "df_raw.fillna(df_raw.mean(), inplace=True)\n",
    "df_raw.isnull().sum()"
   ]
  },
  {
   "cell_type": "code",
   "execution_count": 5,
   "metadata": {
    "colab": {
     "base_uri": "https://localhost:8080/"
    },
    "executionInfo": {
     "elapsed": 974,
     "status": "ok",
     "timestamp": 1605846027275,
     "user": {
      "displayName": "KyeongHyeon So",
      "photoUrl": "",
      "userId": "10802110928116016737"
     },
     "user_tz": -540
    },
    "id": "USIhYfQ8YmUH",
    "outputId": "2ca9edf6-d675-4b4c-f2ea-17939e217e6d"
   },
   "outputs": [
    {
     "data": {
      "text/plain": [
       "(3748, 19)"
      ]
     },
     "execution_count": 5,
     "metadata": {},
     "output_type": "execute_result"
    }
   ],
   "source": [
    "# 범주형 데이터 원핫인코딩 변환\n",
    "df_raw_dummy = pd.get_dummies(df_raw)\n",
    "df_raw_dummy.shape"
   ]
  },
  {
   "cell_type": "code",
   "execution_count": 6,
   "metadata": {
    "id": "7ddSkqsuTSwT"
   },
   "outputs": [],
   "source": [
    "df_train, df_test = train_test_split(df_raw_dummy, test_size = 0.3, random_state = 1234)\n",
    "\n",
    "df_train_x = df_train.drop('BAD',axis=1)\n",
    "df_train_y = df_train['BAD']\n",
    "\n",
    "df_test_x = df_test.drop('BAD',axis=1)\n",
    "df_test_y = df_test['BAD']"
   ]
  },
  {
   "cell_type": "code",
   "execution_count": 7,
   "metadata": {
    "colab": {
     "base_uri": "https://localhost:8080/"
    },
    "executionInfo": {
     "elapsed": 376,
     "status": "ok",
     "timestamp": 1605846029636,
     "user": {
      "displayName": "KyeongHyeon So",
      "photoUrl": "",
      "userId": "10802110928116016737"
     },
     "user_tz": -540
    },
    "id": "r61Kg7hkYyUT",
    "outputId": "0412a16c-6051-4b61-d427-7429275aee4e"
   },
   "outputs": [
    {
     "name": "stdout",
     "output_type": "stream",
     "text": [
      "(2623, 18) (1125, 18)\n"
     ]
    }
   ],
   "source": [
    "print(df_train_x.shape, df_test_x.shape)"
   ]
  },
  {
   "cell_type": "code",
   "execution_count": 8,
   "metadata": {
    "colab": {
     "base_uri": "https://localhost:8080/"
    },
    "executionInfo": {
     "elapsed": 1127,
     "status": "ok",
     "timestamp": 1605846290394,
     "user": {
      "displayName": "KyeongHyeon So",
      "photoUrl": "",
      "userId": "10802110928116016737"
     },
     "user_tz": -540
    },
    "id": "A9fMCuLcVVb7",
    "outputId": "c34ce685-6bb3-41cf-8145-29395f1931e0"
   },
   "outputs": [
    {
     "name": "stdout",
     "output_type": "stream",
     "text": [
      "Accuracy on training set:0.916\n",
      "Accuracy on test set:0.908\n"
     ]
    }
   ],
   "source": [
    "#KNN 모델 생성(default 설정)\n",
    "knn_uncustomized = KNeighborsClassifier()\n",
    "knn_uncustomized.fit(df_train_x, df_train_y)\n",
    "#train 데이터 셋 정확도\n",
    "print(\"Accuracy on training set:{:.3f}\".format(knn_uncustomized.score(df_train_x, df_train_y)))\n",
    "print(\"Accuracy on test set:{:.3f}\".format(knn_uncustomized.score(df_test_x, df_test_y)))"
   ]
  },
  {
   "cell_type": "code",
   "execution_count": 9,
   "metadata": {
    "colab": {
     "base_uri": "https://localhost:8080/"
    },
    "executionInfo": {
     "elapsed": 603,
     "status": "ok",
     "timestamp": 1605846032082,
     "user": {
      "displayName": "KyeongHyeon So",
      "photoUrl": "",
      "userId": "10802110928116016737"
     },
     "user_tz": -540
    },
    "id": "p_fmTDUFVV3w",
    "outputId": "34451cf0-df98-49ee-a5d9-688a1645ae1e"
   },
   "outputs": [
    {
     "data": {
      "text/plain": [
       "KNeighborsClassifier()"
      ]
     },
     "execution_count": 9,
     "metadata": {},
     "output_type": "execute_result"
    }
   ],
   "source": [
    "knn_uncustomized"
   ]
  },
  {
   "cell_type": "code",
   "execution_count": 10,
   "metadata": {
    "colab": {
     "base_uri": "https://localhost:8080/",
     "height": 514
    },
    "executionInfo": {
     "elapsed": 2677,
     "status": "ok",
     "timestamp": 1605846296673,
     "user": {
      "displayName": "KyeongHyeon So",
      "photoUrl": "",
      "userId": "10802110928116016737"
     },
     "user_tz": -540
    },
    "id": "u7Glnrg4VWTI",
    "outputId": "b44b0e5e-7864-423c-a170-65fbf9be461a"
   },
   "outputs": [
    {
     "data": {
      "text/html": [
       "<div>\n",
       "<style scoped>\n",
       "    .dataframe tbody tr th:only-of-type {\n",
       "        vertical-align: middle;\n",
       "    }\n",
       "\n",
       "    .dataframe tbody tr th {\n",
       "        vertical-align: top;\n",
       "    }\n",
       "\n",
       "    .dataframe thead th {\n",
       "        text-align: right;\n",
       "    }\n",
       "</style>\n",
       "<table border=\"1\" class=\"dataframe\">\n",
       "  <thead>\n",
       "    <tr style=\"text-align: right;\">\n",
       "      <th></th>\n",
       "      <th>Neighbors</th>\n",
       "      <th>TrainAccuacy</th>\n",
       "      <th>TestAccuacy</th>\n",
       "    </tr>\n",
       "  </thead>\n",
       "  <tbody>\n",
       "    <tr>\n",
       "      <th>0</th>\n",
       "      <td>1</td>\n",
       "      <td>1.000</td>\n",
       "      <td>0.877</td>\n",
       "    </tr>\n",
       "    <tr>\n",
       "      <th>1</th>\n",
       "      <td>2</td>\n",
       "      <td>0.928</td>\n",
       "      <td>0.912</td>\n",
       "    </tr>\n",
       "    <tr>\n",
       "      <th>2</th>\n",
       "      <td>3</td>\n",
       "      <td>0.929</td>\n",
       "      <td>0.913</td>\n",
       "    </tr>\n",
       "    <tr>\n",
       "      <th>3</th>\n",
       "      <td>4</td>\n",
       "      <td>0.916</td>\n",
       "      <td>0.914</td>\n",
       "    </tr>\n",
       "    <tr>\n",
       "      <th>4</th>\n",
       "      <td>5</td>\n",
       "      <td>0.916</td>\n",
       "      <td>0.908</td>\n",
       "    </tr>\n",
       "    <tr>\n",
       "      <th>5</th>\n",
       "      <td>6</td>\n",
       "      <td>0.913</td>\n",
       "      <td>0.911</td>\n",
       "    </tr>\n",
       "    <tr>\n",
       "      <th>6</th>\n",
       "      <td>7</td>\n",
       "      <td>0.913</td>\n",
       "      <td>0.912</td>\n",
       "    </tr>\n",
       "    <tr>\n",
       "      <th>7</th>\n",
       "      <td>8</td>\n",
       "      <td>0.910</td>\n",
       "      <td>0.912</td>\n",
       "    </tr>\n",
       "    <tr>\n",
       "      <th>8</th>\n",
       "      <td>9</td>\n",
       "      <td>0.911</td>\n",
       "      <td>0.913</td>\n",
       "    </tr>\n",
       "    <tr>\n",
       "      <th>9</th>\n",
       "      <td>10</td>\n",
       "      <td>0.909</td>\n",
       "      <td>0.910</td>\n",
       "    </tr>\n",
       "    <tr>\n",
       "      <th>10</th>\n",
       "      <td>11</td>\n",
       "      <td>0.909</td>\n",
       "      <td>0.910</td>\n",
       "    </tr>\n",
       "    <tr>\n",
       "      <th>11</th>\n",
       "      <td>12</td>\n",
       "      <td>0.909</td>\n",
       "      <td>0.910</td>\n",
       "    </tr>\n",
       "    <tr>\n",
       "      <th>12</th>\n",
       "      <td>13</td>\n",
       "      <td>0.910</td>\n",
       "      <td>0.910</td>\n",
       "    </tr>\n",
       "    <tr>\n",
       "      <th>13</th>\n",
       "      <td>14</td>\n",
       "      <td>0.909</td>\n",
       "      <td>0.909</td>\n",
       "    </tr>\n",
       "    <tr>\n",
       "      <th>14</th>\n",
       "      <td>15</td>\n",
       "      <td>0.910</td>\n",
       "      <td>0.909</td>\n",
       "    </tr>\n",
       "  </tbody>\n",
       "</table>\n",
       "</div>"
      ],
      "text/plain": [
       "    Neighbors  TrainAccuacy  TestAccuacy\n",
       "0           1         1.000        0.877\n",
       "1           2         0.928        0.912\n",
       "2           3         0.929        0.913\n",
       "3           4         0.916        0.914\n",
       "4           5         0.916        0.908\n",
       "5           6         0.913        0.911\n",
       "6           7         0.913        0.912\n",
       "7           8         0.910        0.912\n",
       "8           9         0.911        0.913\n",
       "9          10         0.909        0.910\n",
       "10         11         0.909        0.910\n",
       "11         12         0.909        0.910\n",
       "12         13         0.910        0.910\n",
       "13         14         0.909        0.909\n",
       "14         15         0.910        0.909"
      ]
     },
     "execution_count": 10,
     "metadata": {},
     "output_type": "execute_result"
    }
   ],
   "source": [
    "#train 및 test 정확도 결과 저장용\n",
    "train_accuracy = []; test_accuracy = []\n",
    "#최대 이웃 수 : 1 ~ 15\n",
    "para_n_neighbors = [i for i in range(1,16)]\n",
    "\n",
    "for v_n_neighbors in para_n_neighbors:\n",
    "    knn = KNeighborsClassifier(n_neighbors = v_n_neighbors)\n",
    "    knn.fit(df_train_x, df_train_y)\n",
    "    train_accuracy.append(knn.score(df_train_x, df_train_y))\n",
    "    test_accuracy.append(knn.score(df_test_x, df_test_y))\n",
    "\n",
    "#데이터 테이블로 저장\n",
    "df_accuracy_neighbors = pd.DataFrame()\n",
    "df_accuracy_neighbors[\"Neighbors\"] = para_n_neighbors\n",
    "df_accuracy_neighbors[\"TrainAccuacy\"] = train_accuracy\n",
    "df_accuracy_neighbors[\"TestAccuacy\"] = test_accuracy\n",
    "df_accuracy_neighbors.round(3)"
   ]
  },
  {
   "cell_type": "code",
   "execution_count": 11,
   "metadata": {
    "colab": {
     "base_uri": "https://localhost:8080/",
     "height": 280
    },
    "executionInfo": {
     "elapsed": 936,
     "status": "ok",
     "timestamp": 1605846037373,
     "user": {
      "displayName": "KyeongHyeon So",
      "photoUrl": "",
      "userId": "10802110928116016737"
     },
     "user_tz": -540
    },
    "id": "qwYrLT11VmOB",
    "outputId": "542f8ed6-00b9-4b49-ba17-58eaed879957"
   },
   "outputs": [
    {
     "data": {
      "image/png": "[encoded data removed]",
      "text/plain": [
       "<Figure size 432x288 with 1 Axes>"
      ]
     },
     "metadata": {
      "needs_background": "light"
     },
     "output_type": "display_data"
    }
   ],
   "source": [
    "#178\n",
    "plt.plot(para_n_neighbors, train_accuracy, linestyle=\"-\", label=\"Train Accuracy\")\n",
    "plt.plot(para_n_neighbors, test_accuracy, linestyle=\"--\", label=\"Test Accuracy\")\n",
    "plt.ylabel(\"accuracy\");plt.xlabel(\"n_neighbors\")\n",
    "plt.legend()\n",
    "\n",
    "n_neighbors = 4"
   ]
  },
  {
   "cell_type": "markdown",
   "metadata": {
    "id": "no1-JLbQ41Jd"
   },
   "source": []
  },
  {
   "cell_type": "code",
   "execution_count": 12,
   "metadata": {
    "colab": {
     "base_uri": "https://localhost:8080/",
     "height": 297
    },
    "executionInfo": {
     "elapsed": 973,
     "status": "ok",
     "timestamp": 1605846203406,
     "user": {
      "displayName": "KyeongHyeon So",
      "photoUrl": "",
      "userId": "10802110928116016737"
     },
     "user_tz": -540
    },
    "id": "pNHWp2Hd41jZ",
    "outputId": "13cf8d26-2301-4b63-f28f-cb006cbad8b0"
   },
   "outputs": [
    {
     "data": {
      "text/plain": [
       "<matplotlib.legend.Legend at 0x7f10051ab2e0>"
      ]
     },
     "execution_count": 12,
     "metadata": {},
     "output_type": "execute_result"
    },
    {
     "data": {
      "image/png": "[encoded data removed]",
      "text/plain": [
       "<Figure size 432x288 with 1 Axes>"
      ]
     },
     "metadata": {
      "needs_background": "light"
     },
     "output_type": "display_data"
    }
   ],
   "source": [
    "#모델 정확도 그래프 확인\n",
    "plt.plot(para_n_neighbors, train_accuracy, linestyle = \"--\", label = \"Train Accuracy\")\n",
    "plt.plot(para_n_neighbors, test_accuracy, linestyle = \"--\", label = \"Test Accuracy\")\n",
    "plt.ylabel(\"accuracy\")\n",
    "plt.xlabel(\"n_neighbors\")\n",
    "plt.legend()"
   ]
  },
  {
   "cell_type": "code",
   "execution_count": 13,
   "metadata": {
    "colab": {
     "base_uri": "https://localhost:8080/",
     "height": 669
    },
    "executionInfo": {
     "elapsed": 2444,
     "status": "ok",
     "timestamp": 1605846207043,
     "user": {
      "displayName": "KyeongHyeon So",
      "photoUrl": "",
      "userId": "10802110928116016737"
     },
     "user_tz": -540
    },
    "id": "t8O43qd-43Up",
    "outputId": "24c8987f-6e0c-401a-c698-0b309d2be44e"
   },
   "outputs": [
    {
     "data": {
      "text/html": [
       "<div>\n",
       "<style scoped>\n",
       "    .dataframe tbody tr th:only-of-type {\n",
       "        vertical-align: middle;\n",
       "    }\n",
       "\n",
       "    .dataframe tbody tr th {\n",
       "        vertical-align: top;\n",
       "    }\n",
       "\n",
       "    .dataframe thead th {\n",
       "        text-align: right;\n",
       "    }\n",
       "</style>\n",
       "<table border=\"1\" class=\"dataframe\">\n",
       "  <thead>\n",
       "    <tr style=\"text-align: right;\">\n",
       "      <th></th>\n",
       "      <th>Neighbors</th>\n",
       "      <th>Weights</th>\n",
       "      <th>TrainAccuracy</th>\n",
       "      <th>TestAccuracy</th>\n",
       "    </tr>\n",
       "  </thead>\n",
       "  <tbody>\n",
       "    <tr>\n",
       "      <th>0</th>\n",
       "      <td>1</td>\n",
       "      <td>uniform</td>\n",
       "      <td>1.000</td>\n",
       "      <td>0.877</td>\n",
       "    </tr>\n",
       "    <tr>\n",
       "      <th>1</th>\n",
       "      <td>2</td>\n",
       "      <td>uniform</td>\n",
       "      <td>0.928</td>\n",
       "      <td>0.912</td>\n",
       "    </tr>\n",
       "    <tr>\n",
       "      <th>2</th>\n",
       "      <td>3</td>\n",
       "      <td>uniform</td>\n",
       "      <td>0.929</td>\n",
       "      <td>0.913</td>\n",
       "    </tr>\n",
       "    <tr>\n",
       "      <th>3</th>\n",
       "      <td>4</td>\n",
       "      <td>uniform</td>\n",
       "      <td>0.916</td>\n",
       "      <td>0.914</td>\n",
       "    </tr>\n",
       "    <tr>\n",
       "      <th>4</th>\n",
       "      <td>5</td>\n",
       "      <td>uniform</td>\n",
       "      <td>0.916</td>\n",
       "      <td>0.908</td>\n",
       "    </tr>\n",
       "    <tr>\n",
       "      <th>5</th>\n",
       "      <td>6</td>\n",
       "      <td>uniform</td>\n",
       "      <td>0.913</td>\n",
       "      <td>0.911</td>\n",
       "    </tr>\n",
       "    <tr>\n",
       "      <th>6</th>\n",
       "      <td>7</td>\n",
       "      <td>uniform</td>\n",
       "      <td>0.913</td>\n",
       "      <td>0.912</td>\n",
       "    </tr>\n",
       "    <tr>\n",
       "      <th>7</th>\n",
       "      <td>8</td>\n",
       "      <td>uniform</td>\n",
       "      <td>0.910</td>\n",
       "      <td>0.912</td>\n",
       "    </tr>\n",
       "    <tr>\n",
       "      <th>8</th>\n",
       "      <td>9</td>\n",
       "      <td>uniform</td>\n",
       "      <td>0.911</td>\n",
       "      <td>0.913</td>\n",
       "    </tr>\n",
       "    <tr>\n",
       "      <th>9</th>\n",
       "      <td>10</td>\n",
       "      <td>uniform</td>\n",
       "      <td>0.909</td>\n",
       "      <td>0.910</td>\n",
       "    </tr>\n",
       "    <tr>\n",
       "      <th>10</th>\n",
       "      <td>1</td>\n",
       "      <td>distance</td>\n",
       "      <td>1.000</td>\n",
       "      <td>0.877</td>\n",
       "    </tr>\n",
       "    <tr>\n",
       "      <th>11</th>\n",
       "      <td>2</td>\n",
       "      <td>distance</td>\n",
       "      <td>1.000</td>\n",
       "      <td>0.877</td>\n",
       "    </tr>\n",
       "    <tr>\n",
       "      <th>12</th>\n",
       "      <td>3</td>\n",
       "      <td>distance</td>\n",
       "      <td>1.000</td>\n",
       "      <td>0.912</td>\n",
       "    </tr>\n",
       "    <tr>\n",
       "      <th>13</th>\n",
       "      <td>4</td>\n",
       "      <td>distance</td>\n",
       "      <td>1.000</td>\n",
       "      <td>0.914</td>\n",
       "    </tr>\n",
       "    <tr>\n",
       "      <th>14</th>\n",
       "      <td>5</td>\n",
       "      <td>distance</td>\n",
       "      <td>1.000</td>\n",
       "      <td>0.913</td>\n",
       "    </tr>\n",
       "    <tr>\n",
       "      <th>15</th>\n",
       "      <td>6</td>\n",
       "      <td>distance</td>\n",
       "      <td>1.000</td>\n",
       "      <td>0.913</td>\n",
       "    </tr>\n",
       "    <tr>\n",
       "      <th>16</th>\n",
       "      <td>7</td>\n",
       "      <td>distance</td>\n",
       "      <td>1.000</td>\n",
       "      <td>0.913</td>\n",
       "    </tr>\n",
       "    <tr>\n",
       "      <th>17</th>\n",
       "      <td>8</td>\n",
       "      <td>distance</td>\n",
       "      <td>1.000</td>\n",
       "      <td>0.914</td>\n",
       "    </tr>\n",
       "    <tr>\n",
       "      <th>18</th>\n",
       "      <td>9</td>\n",
       "      <td>distance</td>\n",
       "      <td>1.000</td>\n",
       "      <td>0.915</td>\n",
       "    </tr>\n",
       "    <tr>\n",
       "      <th>19</th>\n",
       "      <td>10</td>\n",
       "      <td>distance</td>\n",
       "      <td>1.000</td>\n",
       "      <td>0.915</td>\n",
       "    </tr>\n",
       "  </tbody>\n",
       "</table>\n",
       "</div>"
      ],
      "text/plain": [
       "    Neighbors   Weights  TrainAccuracy  TestAccuracy\n",
       "0           1   uniform          1.000         0.877\n",
       "1           2   uniform          0.928         0.912\n",
       "2           3   uniform          0.929         0.913\n",
       "3           4   uniform          0.916         0.914\n",
       "4           5   uniform          0.916         0.908\n",
       "5           6   uniform          0.913         0.911\n",
       "6           7   uniform          0.913         0.912\n",
       "7           8   uniform          0.910         0.912\n",
       "8           9   uniform          0.911         0.913\n",
       "9          10   uniform          0.909         0.910\n",
       "10          1  distance          1.000         0.877\n",
       "11          2  distance          1.000         0.877\n",
       "12          3  distance          1.000         0.912\n",
       "13          4  distance          1.000         0.914\n",
       "14          5  distance          1.000         0.913\n",
       "15          6  distance          1.000         0.913\n",
       "16          7  distance          1.000         0.913\n",
       "17          8  distance          1.000         0.914\n",
       "18          9  distance          1.000         0.915\n",
       "19         10  distance          1.000         0.915"
      ]
     },
     "execution_count": 13,
     "metadata": {},
     "output_type": "execute_result"
    }
   ],
   "source": [
    "# train 및 test 정확도 결과 저장용\n",
    "train_accuracy = []\n",
    "test_accuracy =[]\n",
    "#이웃 수\n",
    "para_n_neighbors = [i for i in range(1,11)]*2\n",
    "#가중치(uniform, distance)\n",
    "para_weights = ([\"uniform\"]) * 10 + ([\"distance\"] * 10 )\n",
    "#zip(list1, list2, ...)를 사용하면 list1과 list2의 인덱스별 값을 하나씩 가져옴\n",
    "#1번 loop: n_neighbors = para_n_neighbors[0], weights =para_weights[0]\n",
    "#2번 loop: n_neighbors = para_n_neighbors[1], weights =para_weights[1]\n",
    "\n",
    "for (v_n_neighbors, v_weights) in zip(para_n_neighbors , para_weights):\n",
    "    knn = KNeighborsClassifier(n_neighbors= v_n_neighbors, weights= v_weights)\n",
    "    knn.fit(df_train_x, df_train_y)\n",
    "    train_accuracy.append(knn.score(df_train_x,df_train_y))\n",
    "    test_accuracy.append(knn.score(df_test_x, df_test_y))\n",
    "\n",
    "df_accuracy_weights = pd.DataFrame()\n",
    "df_accuracy_weights[\"Neighbors\"] = para_n_neighbors\n",
    "df_accuracy_weights[\"Weights\"] = para_weights\n",
    "df_accuracy_weights[\"TrainAccuracy\"] = train_accuracy\n",
    "df_accuracy_weights[\"TestAccuracy\"] = test_accuracy\n",
    "df_accuracy_weights.round(3)"
   ]
  },
  {
   "cell_type": "code",
   "execution_count": 14,
   "metadata": {
    "colab": {
     "base_uri": "https://localhost:8080/",
     "height": 235
    },
    "executionInfo": {
     "elapsed": 774,
     "status": "ok",
     "timestamp": 1605846216109,
     "user": {
      "displayName": "KyeongHyeon So",
      "photoUrl": "",
      "userId": "10802110928116016737"
     },
     "user_tz": -540
    },
    "id": "fs43jmaqfx3r",
    "outputId": "3c87eb9a-68c5-4d52-f2ed-8aea1338fc4b"
   },
   "outputs": [
    {
     "data": {
      "text/html": [
       "<div>\n",
       "<style scoped>\n",
       "    .dataframe tbody tr th:only-of-type {\n",
       "        vertical-align: middle;\n",
       "    }\n",
       "\n",
       "    .dataframe tbody tr th {\n",
       "        vertical-align: top;\n",
       "    }\n",
       "\n",
       "    .dataframe thead th {\n",
       "        text-align: right;\n",
       "    }\n",
       "</style>\n",
       "<table border=\"1\" class=\"dataframe\">\n",
       "  <thead>\n",
       "    <tr style=\"text-align: right;\">\n",
       "      <th></th>\n",
       "      <th>TrainAccuracy_distance</th>\n",
       "      <th>TrainAccuracy_uniform</th>\n",
       "      <th>TestAccuracy_distance</th>\n",
       "      <th>TestAccuracy_uniform</th>\n",
       "    </tr>\n",
       "    <tr>\n",
       "      <th>Neighbors</th>\n",
       "      <th></th>\n",
       "      <th></th>\n",
       "      <th></th>\n",
       "      <th></th>\n",
       "    </tr>\n",
       "  </thead>\n",
       "  <tbody>\n",
       "    <tr>\n",
       "      <th>1</th>\n",
       "      <td>1.0</td>\n",
       "      <td>1.000000</td>\n",
       "      <td>0.877333</td>\n",
       "      <td>0.877333</td>\n",
       "    </tr>\n",
       "    <tr>\n",
       "      <th>2</th>\n",
       "      <td>1.0</td>\n",
       "      <td>0.928326</td>\n",
       "      <td>0.877333</td>\n",
       "      <td>0.912000</td>\n",
       "    </tr>\n",
       "    <tr>\n",
       "      <th>3</th>\n",
       "      <td>1.0</td>\n",
       "      <td>0.929470</td>\n",
       "      <td>0.912000</td>\n",
       "      <td>0.912889</td>\n",
       "    </tr>\n",
       "    <tr>\n",
       "      <th>4</th>\n",
       "      <td>1.0</td>\n",
       "      <td>0.916127</td>\n",
       "      <td>0.913778</td>\n",
       "      <td>0.913778</td>\n",
       "    </tr>\n",
       "    <tr>\n",
       "      <th>5</th>\n",
       "      <td>1.0</td>\n",
       "      <td>0.916127</td>\n",
       "      <td>0.912889</td>\n",
       "      <td>0.907556</td>\n",
       "    </tr>\n",
       "  </tbody>\n",
       "</table>\n",
       "</div>"
      ],
      "text/plain": [
       "           TrainAccuracy_distance  TrainAccuracy_uniform  \\\n",
       "Neighbors                                                  \n",
       "1                             1.0               1.000000   \n",
       "2                             1.0               0.928326   \n",
       "3                             1.0               0.929470   \n",
       "4                             1.0               0.916127   \n",
       "5                             1.0               0.916127   \n",
       "\n",
       "           TestAccuracy_distance  TestAccuracy_uniform  \n",
       "Neighbors                                               \n",
       "1                       0.877333              0.877333  \n",
       "2                       0.877333              0.912000  \n",
       "3                       0.912000              0.912889  \n",
       "4                       0.913778              0.913778  \n",
       "5                       0.912889              0.907556  "
      ]
     },
     "execution_count": 14,
     "metadata": {},
     "output_type": "execute_result"
    }
   ],
   "source": [
    "#그림을 그리기 위해 데이터의 형태를 변환\n",
    "df_accuracy_weights_pivot = df_accuracy_weights.pivot(index = 'Neighbors', columns = 'Weights',\\\n",
    "                                                      values = ['TrainAccuracy', 'TestAccuracy'])\n",
    "df_accuracy_weights_pivot\n",
    "\n",
    "#pivot을 이용할 경우, columns와 values이 2개의 level로 이루어지므로 하나의 level로 변환\n",
    "level0 = df_accuracy_weights_pivot.columns.get_level_values(0)\n",
    "level1 = df_accuracy_weights_pivot.columns.get_level_values(1)\n",
    "df_accuracy_weights_pivot.columns = level0 + '_' + level1\n",
    "df_accuracy_weights_pivot.head()"
   ]
  },
  {
   "cell_type": "code",
   "execution_count": 15,
   "metadata": {
    "colab": {
     "base_uri": "https://localhost:8080/",
     "height": 979
    },
    "executionInfo": {
     "elapsed": 4818,
     "status": "ok",
     "timestamp": 1605846227335,
     "user": {
      "displayName": "KyeongHyeon So",
      "photoUrl": "",
      "userId": "10802110928116016737"
     },
     "user_tz": -540
    },
    "id": "MtAB0l8rg_BN",
    "outputId": "52eb9ea3-4a60-40ba-8ea5-6ad8c2eed851"
   },
   "outputs": [
    {
     "data": {
      "text/html": [
       "<div>\n",
       "<style scoped>\n",
       "    .dataframe tbody tr th:only-of-type {\n",
       "        vertical-align: middle;\n",
       "    }\n",
       "\n",
       "    .dataframe tbody tr th {\n",
       "        vertical-align: top;\n",
       "    }\n",
       "\n",
       "    .dataframe thead th {\n",
       "        text-align: right;\n",
       "    }\n",
       "</style>\n",
       "<table border=\"1\" class=\"dataframe\">\n",
       "  <thead>\n",
       "    <tr style=\"text-align: right;\">\n",
       "      <th></th>\n",
       "      <th>Neighbors</th>\n",
       "      <th>Metric</th>\n",
       "      <th>TrainAccuracy</th>\n",
       "      <th>TestAccuracy</th>\n",
       "    </tr>\n",
       "  </thead>\n",
       "  <tbody>\n",
       "    <tr>\n",
       "      <th>0</th>\n",
       "      <td>1</td>\n",
       "      <td>minkowski</td>\n",
       "      <td>1.000</td>\n",
       "      <td>0.877</td>\n",
       "    </tr>\n",
       "    <tr>\n",
       "      <th>1</th>\n",
       "      <td>2</td>\n",
       "      <td>minkowski</td>\n",
       "      <td>0.928</td>\n",
       "      <td>0.912</td>\n",
       "    </tr>\n",
       "    <tr>\n",
       "      <th>2</th>\n",
       "      <td>3</td>\n",
       "      <td>minkowski</td>\n",
       "      <td>0.929</td>\n",
       "      <td>0.913</td>\n",
       "    </tr>\n",
       "    <tr>\n",
       "      <th>3</th>\n",
       "      <td>4</td>\n",
       "      <td>minkowski</td>\n",
       "      <td>0.916</td>\n",
       "      <td>0.914</td>\n",
       "    </tr>\n",
       "    <tr>\n",
       "      <th>4</th>\n",
       "      <td>5</td>\n",
       "      <td>minkowski</td>\n",
       "      <td>0.916</td>\n",
       "      <td>0.908</td>\n",
       "    </tr>\n",
       "    <tr>\n",
       "      <th>5</th>\n",
       "      <td>6</td>\n",
       "      <td>minkowski</td>\n",
       "      <td>0.913</td>\n",
       "      <td>0.911</td>\n",
       "    </tr>\n",
       "    <tr>\n",
       "      <th>6</th>\n",
       "      <td>7</td>\n",
       "      <td>minkowski</td>\n",
       "      <td>0.913</td>\n",
       "      <td>0.912</td>\n",
       "    </tr>\n",
       "    <tr>\n",
       "      <th>7</th>\n",
       "      <td>8</td>\n",
       "      <td>minkowski</td>\n",
       "      <td>0.910</td>\n",
       "      <td>0.912</td>\n",
       "    </tr>\n",
       "    <tr>\n",
       "      <th>8</th>\n",
       "      <td>9</td>\n",
       "      <td>minkowski</td>\n",
       "      <td>0.911</td>\n",
       "      <td>0.913</td>\n",
       "    </tr>\n",
       "    <tr>\n",
       "      <th>9</th>\n",
       "      <td>10</td>\n",
       "      <td>minkowski</td>\n",
       "      <td>0.909</td>\n",
       "      <td>0.910</td>\n",
       "    </tr>\n",
       "    <tr>\n",
       "      <th>10</th>\n",
       "      <td>1</td>\n",
       "      <td>euclidean</td>\n",
       "      <td>1.000</td>\n",
       "      <td>0.877</td>\n",
       "    </tr>\n",
       "    <tr>\n",
       "      <th>11</th>\n",
       "      <td>2</td>\n",
       "      <td>euclidean</td>\n",
       "      <td>0.928</td>\n",
       "      <td>0.912</td>\n",
       "    </tr>\n",
       "    <tr>\n",
       "      <th>12</th>\n",
       "      <td>3</td>\n",
       "      <td>euclidean</td>\n",
       "      <td>0.929</td>\n",
       "      <td>0.913</td>\n",
       "    </tr>\n",
       "    <tr>\n",
       "      <th>13</th>\n",
       "      <td>4</td>\n",
       "      <td>euclidean</td>\n",
       "      <td>0.916</td>\n",
       "      <td>0.914</td>\n",
       "    </tr>\n",
       "    <tr>\n",
       "      <th>14</th>\n",
       "      <td>5</td>\n",
       "      <td>euclidean</td>\n",
       "      <td>0.916</td>\n",
       "      <td>0.908</td>\n",
       "    </tr>\n",
       "    <tr>\n",
       "      <th>15</th>\n",
       "      <td>6</td>\n",
       "      <td>euclidean</td>\n",
       "      <td>0.913</td>\n",
       "      <td>0.911</td>\n",
       "    </tr>\n",
       "    <tr>\n",
       "      <th>16</th>\n",
       "      <td>7</td>\n",
       "      <td>euclidean</td>\n",
       "      <td>0.913</td>\n",
       "      <td>0.912</td>\n",
       "    </tr>\n",
       "    <tr>\n",
       "      <th>17</th>\n",
       "      <td>8</td>\n",
       "      <td>euclidean</td>\n",
       "      <td>0.910</td>\n",
       "      <td>0.912</td>\n",
       "    </tr>\n",
       "    <tr>\n",
       "      <th>18</th>\n",
       "      <td>9</td>\n",
       "      <td>euclidean</td>\n",
       "      <td>0.911</td>\n",
       "      <td>0.913</td>\n",
       "    </tr>\n",
       "    <tr>\n",
       "      <th>19</th>\n",
       "      <td>10</td>\n",
       "      <td>euclidean</td>\n",
       "      <td>0.909</td>\n",
       "      <td>0.910</td>\n",
       "    </tr>\n",
       "    <tr>\n",
       "      <th>20</th>\n",
       "      <td>1</td>\n",
       "      <td>manhattan</td>\n",
       "      <td>1.000</td>\n",
       "      <td>0.877</td>\n",
       "    </tr>\n",
       "    <tr>\n",
       "      <th>21</th>\n",
       "      <td>2</td>\n",
       "      <td>manhattan</td>\n",
       "      <td>0.926</td>\n",
       "      <td>0.914</td>\n",
       "    </tr>\n",
       "    <tr>\n",
       "      <th>22</th>\n",
       "      <td>3</td>\n",
       "      <td>manhattan</td>\n",
       "      <td>0.929</td>\n",
       "      <td>0.912</td>\n",
       "    </tr>\n",
       "    <tr>\n",
       "      <th>23</th>\n",
       "      <td>4</td>\n",
       "      <td>manhattan</td>\n",
       "      <td>0.918</td>\n",
       "      <td>0.912</td>\n",
       "    </tr>\n",
       "    <tr>\n",
       "      <th>24</th>\n",
       "      <td>5</td>\n",
       "      <td>manhattan</td>\n",
       "      <td>0.916</td>\n",
       "      <td>0.908</td>\n",
       "    </tr>\n",
       "    <tr>\n",
       "      <th>25</th>\n",
       "      <td>6</td>\n",
       "      <td>manhattan</td>\n",
       "      <td>0.913</td>\n",
       "      <td>0.912</td>\n",
       "    </tr>\n",
       "    <tr>\n",
       "      <th>26</th>\n",
       "      <td>7</td>\n",
       "      <td>manhattan</td>\n",
       "      <td>0.913</td>\n",
       "      <td>0.907</td>\n",
       "    </tr>\n",
       "    <tr>\n",
       "      <th>27</th>\n",
       "      <td>8</td>\n",
       "      <td>manhattan</td>\n",
       "      <td>0.911</td>\n",
       "      <td>0.912</td>\n",
       "    </tr>\n",
       "    <tr>\n",
       "      <th>28</th>\n",
       "      <td>9</td>\n",
       "      <td>manhattan</td>\n",
       "      <td>0.911</td>\n",
       "      <td>0.911</td>\n",
       "    </tr>\n",
       "    <tr>\n",
       "      <th>29</th>\n",
       "      <td>10</td>\n",
       "      <td>manhattan</td>\n",
       "      <td>0.910</td>\n",
       "      <td>0.909</td>\n",
       "    </tr>\n",
       "  </tbody>\n",
       "</table>\n",
       "</div>"
      ],
      "text/plain": [
       "    Neighbors     Metric  TrainAccuracy  TestAccuracy\n",
       "0           1  minkowski          1.000         0.877\n",
       "1           2  minkowski          0.928         0.912\n",
       "2           3  minkowski          0.929         0.913\n",
       "3           4  minkowski          0.916         0.914\n",
       "4           5  minkowski          0.916         0.908\n",
       "5           6  minkowski          0.913         0.911\n",
       "6           7  minkowski          0.913         0.912\n",
       "7           8  minkowski          0.910         0.912\n",
       "8           9  minkowski          0.911         0.913\n",
       "9          10  minkowski          0.909         0.910\n",
       "10          1  euclidean          1.000         0.877\n",
       "11          2  euclidean          0.928         0.912\n",
       "12          3  euclidean          0.929         0.913\n",
       "13          4  euclidean          0.916         0.914\n",
       "14          5  euclidean          0.916         0.908\n",
       "15          6  euclidean          0.913         0.911\n",
       "16          7  euclidean          0.913         0.912\n",
       "17          8  euclidean          0.910         0.912\n",
       "18          9  euclidean          0.911         0.913\n",
       "19         10  euclidean          0.909         0.910\n",
       "20          1  manhattan          1.000         0.877\n",
       "21          2  manhattan          0.926         0.914\n",
       "22          3  manhattan          0.929         0.912\n",
       "23          4  manhattan          0.918         0.912\n",
       "24          5  manhattan          0.916         0.908\n",
       "25          6  manhattan          0.913         0.912\n",
       "26          7  manhattan          0.913         0.907\n",
       "27          8  manhattan          0.911         0.912\n",
       "28          9  manhattan          0.911         0.911\n",
       "29         10  manhattan          0.910         0.909"
      ]
     },
     "execution_count": 15,
     "metadata": {},
     "output_type": "execute_result"
    }
   ],
   "source": [
    "## train 및 정확도 결과 저장용\n",
    "train_accuracy=[];test_accuracy=[]\n",
    "\n",
    "## 이웃수\n",
    "para_n_neighbors = [i for i in range(1,11)]*3\n",
    "\n",
    "## 거리계산 방법 (minkowki,euclidean,manhattan )\n",
    "para_metric = [\"minkowski\"]*10 + [\"euclidean\"]*10 + [\"manhattan\"]*10\n",
    "\n",
    "for (v_n_neighbors,v_metric) in zip(para_n_neighbors, para_metric):\n",
    "    knn = KNeighborsClassifier(n_neighbors=v_n_neighbors, metric = v_metric, weights='uniform')\n",
    "    knn.fit(df_train_x, df_train_y)\n",
    "    train_accuracy.append(knn.score(df_train_x, df_train_y))\n",
    "    test_accuracy.append(knn.score(df_test_x, df_test_y))\n",
    "    \n",
    "    \n",
    "# 데이터 테이블 저장\n",
    "df_accuracy_metric = pd.DataFrame()\n",
    "df_accuracy_metric[\"Neighbors\"] = para_n_neighbors\n",
    "df_accuracy_metric[\"Metric\"] = para_metric\n",
    "df_accuracy_metric[\"TrainAccuracy\"] = train_accuracy\n",
    "df_accuracy_metric[\"TestAccuracy\"] = test_accuracy\n",
    "df_accuracy_metric.round(3)"
   ]
  },
  {
   "cell_type": "code",
   "execution_count": 16,
   "metadata": {
    "colab": {
     "base_uri": "https://localhost:8080/",
     "height": 296
    },
    "executionInfo": {
     "elapsed": 993,
     "status": "ok",
     "timestamp": 1605846275876,
     "user": {
      "displayName": "KyeongHyeon So",
      "photoUrl": "",
      "userId": "10802110928116016737"
     },
     "user_tz": -540
    },
    "id": "lRLXePnHhbMv",
    "outputId": "db3c2f96-6d95-4607-9c34-4cbe5700766e"
   },
   "outputs": [
    {
     "data": {
      "text/plain": [
       "<matplotlib.axes._subplots.AxesSubplot at 0x7f10052445b0>"
      ]
     },
     "execution_count": 16,
     "metadata": {},
     "output_type": "execute_result"
    },
    {
     "data": {
      "image/png": "[encoded data removed]",
      "text/plain": [
       "<Figure size 432x288 with 1 Axes>"
      ]
     },
     "metadata": {
      "needs_background": "light"
     },
     "output_type": "display_data"
    }
   ],
   "source": [
    "\n",
    "\n",
    "#정확도 그래프\n",
    "df_accuracy_metric_pivot = df_accuracy_metric.pivot(index=\"Neighbors\",columns=\"Metric\",\n",
    "                                                   values=[\"TrainAccuracy\",\"TestAccuracy\"])\n",
    "\n",
    "level0=df_accuracy_metric_pivot.columns.get_level_values(0)\n",
    "level1=df_accuracy_metric_pivot.columns.get_level_values(1)\n",
    "df_accuracy_metric_pivot.columns=level0+\"_\"+level1\n",
    "sns.lineplot(data=df_accuracy_metric_pivot)"
   ]
  },
  {
   "cell_type": "code",
   "execution_count": 17,
   "metadata": {
    "colab": {
     "base_uri": "https://localhost:8080/"
    },
    "executionInfo": {
     "elapsed": 592,
     "status": "ok",
     "timestamp": 1605846318325,
     "user": {
      "displayName": "KyeongHyeon So",
      "photoUrl": "",
      "userId": "10802110928116016737"
     },
     "user_tz": -540
    },
    "id": "TwSzOfUx3w5m",
    "outputId": "75d6431f-b6c7-47de-e806-b3bd64268143"
   },
   "outputs": [
    {
     "name": "stdout",
     "output_type": "stream",
     "text": [
      "train data accuracy:0.916\n",
      "test data accuracy:0.914\n",
      "Confusion matrix:\n",
      "[[1018    3]\n",
      " [  94   10]]\n"
     ]
    }
   ],
   "source": [
    "#최종모델\n",
    "knn_model = KNeighborsClassifier(n_neighbors=4,weights=\"uniform\",metric=\"euclidean\")\n",
    "knn_model.fit(df_train_x,df_train_y)\n",
    "#평가\n",
    "y_pred=knn_model.predict(df_test_x)\n",
    "\n",
    "#train 데이터 셋 정확도\n",
    "print(\"train data accuracy:{0:.3f}\".format(knn_model.score(df_train_x,df_train_y)))\n",
    "#test 데이터 셋 정확도\n",
    "print(\"test data accuracy:{0:.3f}\".format(knn_model.score(df_test_x,df_test_y)))\n",
    "#confusion matrix\n",
    "print(\"Confusion matrix:\\n{}\".format(confusion_matrix(df_test_y,y_pred)))"
   ]
  },
  {
   "cell_type": "code",
   "execution_count": null,
   "metadata": {
    "id": "fWRp6BI651ND"
   },
   "outputs": [],
   "source": []
  }
 ],
 "metadata": {
  "colab": {
   "collapsed_sections": [],
   "name": "knn.ipynb",
   "provenance": [],
   "toc_visible": true
  },
  "kernelspec": {
   "display_name": "Python 3",
   "language": "python",
   "name": "python3"
  },
  "language_info": {
   "codemirror_mode": {
    "name": "ipython",
    "version": 3
   },
   "file_extension": ".py",
   "mimetype": "text/x-python",
   "name": "python",
   "nbconvert_exporter": "python",
   "pygments_lexer": "ipython3",
   "version": "3.8.3"
  }
 },
 "nbformat": 4,
 "nbformat_minor": 1
}
