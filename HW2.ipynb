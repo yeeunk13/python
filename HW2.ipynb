{
 "cells": [
  {
   "cell_type": "markdown",
   "metadata": {},
   "source": [
    "### 실습문제 4"
   ]
  },
  {
   "cell_type": "code",
   "execution_count": 125,
   "metadata": {},
   "outputs": [
    {
     "name": "stdout",
     "output_type": "stream",
     "text": [
      "Enter two integers: 8 5\n",
      "8 + 5 = 13\n",
      "8 - 5 = 3\n",
      "8 * 5 = 40\n",
      "8 / 5 = 1.6\n",
      "8 % 5 = 3\n"
     ]
    }
   ],
   "source": [
    "numbers = input('Enter two integers: ')\n",
    "a = int(numbers.split(' ')[0])\n",
    "b = int(numbers.split(' ')[1])\n",
    "print(a, \"+\", b, \"=\", a+b)\n",
    "print(a, \"-\", b, \"=\", a-b)\n",
    "print(a, \"*\", b, \"=\", a*b)\n",
    "print(a, \"/\", b, \"=\", a/b)\n",
    "print(a, \"%\", b, \"=\", a%b)"
   ]
  },
  {
   "cell_type": "markdown",
   "metadata": {},
   "source": [
    "### 실습문제 5"
   ]
  },
  {
   "cell_type": "code",
   "execution_count": 126,
   "metadata": {},
   "outputs": [
    {
     "name": "stdout",
     "output_type": "stream",
     "text": [
      "Enter two integers: 70 91\n",
      "The sum of 70 and 91 is 161\n",
      "The average of numbers is 80.5\n"
     ]
    }
   ],
   "source": [
    "numbers = input('Enter two integers: ')\n",
    "a = int(numbers.split(' ')[0])\n",
    "b = int(numbers.split(' ')[1])\n",
    "print(\"The sum of %s and %s is %s\"%(a,b,a+b))\n",
    "print(\"The average of numbers is %.1f\"%((a+b)/2))"
   ]
  },
  {
   "cell_type": "markdown",
   "metadata": {},
   "source": [
    "### 실습문제 6"
   ]
  },
  {
   "cell_type": "code",
   "execution_count": 127,
   "metadata": {},
   "outputs": [
    {
     "name": "stdout",
     "output_type": "stream",
     "text": [
      "날짜(연/월/일)입력: 2020/11/02\n",
      "입력한 날짜의 10년 후는 2030년 11월 02일\n"
     ]
    }
   ],
   "source": [
    "date = input(\"날짜(연/월/일)입력: \")\n",
    "year,month,day = date.split(\"/\")\n",
    "print(f\"입력한 날짜의 10년 후는 {int(year)+10}년 {month}월 {day}일\")"
   ]
  },
  {
   "cell_type": "markdown",
   "metadata": {},
   "source": [
    "### 조건문 - 문제1"
   ]
  },
  {
   "cell_type": "code",
   "execution_count": 3,
   "metadata": {},
   "outputs": [
    {
     "name": "stdout",
     "output_type": "stream",
     "text": [
      "Enter a number: 14\n",
      "14 is Even number\n"
     ]
    }
   ],
   "source": [
    "number = int(input(\"Enter a number: \"))\n",
    "if number %  2 == 0:\n",
    "    print(f'{number} is Even number')\n",
    "else:\n",
    "    print(f'{number} is Odd number')"
   ]
  },
  {
   "cell_type": "markdown",
   "metadata": {},
   "source": [
    "### 조건문 - 문제2"
   ]
  },
  {
   "cell_type": "code",
   "execution_count": 8,
   "metadata": {},
   "outputs": [
    {
     "name": "stdout",
     "output_type": "stream",
     "text": [
      "Enter your midterm score: 77\n",
      "Enter your final score: 56\n",
      "Average:66.5\n",
      "Grade:D\n"
     ]
    }
   ],
   "source": [
    "mid = int(input(\"Enter your midterm score: \"))\n",
    "final = int(input(\"Enter your final score: \"))\n",
    "avg = (mid + final) / 2\n",
    "print(f\"Average:{avg}\")\n",
    "\n",
    "if avg >= 90:\n",
    "    print(\"Grade:A\")\n",
    "elif avg >= 80:\n",
    "    print(\"Grade:B\")\n",
    "elif avg >= 70:\n",
    "    print(\"Grade:C\")\n",
    "elif avg >= 60:\n",
    "    print(\"Grade:D\")\n",
    "else:\n",
    "    print(\"Grade:F\")"
   ]
  },
  {
   "cell_type": "markdown",
   "metadata": {},
   "source": [
    "### 조건문 - 문제3"
   ]
  },
  {
   "cell_type": "code",
   "execution_count": 9,
   "metadata": {},
   "outputs": [
    {
     "name": "stdout",
     "output_type": "stream",
     "text": [
      "영어 점수 입력: 90\n",
      "수학 점수 입력: 30\n",
      "불합격: 수학 점수 부족\n"
     ]
    }
   ],
   "source": [
    "en = int(input(\"영어 점수 입력: \"))\n",
    "math = int(input(\"수학 점수 입력: \"))\n",
    "\n",
    "if en + math >= 110:\n",
    "    if en >= 40 and math >= 40:\n",
    "        print(\"합격\")\n",
    "    elif en < 40:\n",
    "        print(\"불합격: 영어 점수 부족\")\n",
    "    else:\n",
    "        print(\"불합격: 수학 점수 부족\")\n",
    "else:\n",
    "    print(\"불합격: 종합 점수 부족\")"
   ]
  },
  {
   "cell_type": "markdown",
   "metadata": {},
   "source": [
    "### 조건문 - 문제4"
   ]
  },
  {
   "cell_type": "code",
   "execution_count": 19,
   "metadata": {},
   "outputs": [
    {
     "name": "stdout",
     "output_type": "stream",
     "text": [
      "세 개의 수를 입력하시오: 30 22 50\n",
      "가장 큰 수는 50입니다.\n"
     ]
    }
   ],
   "source": [
    "num = input(\"세 개의 수를 입력하시오: \")\n",
    "nums = num.split()\n",
    "num_list = list(map(int, nums))\n",
    "num_list\n",
    "\n",
    "if num_list[0] >= num_list[1]:\n",
    "    if num_list[0] >= num_list[2]:\n",
    "        print(f\"가장 큰 수는 {num_list[0]}입니다.\")\n",
    "    else:\n",
    "        print(f\"가장 큰 수는 {num_list[2]}입니다.\")\n",
    "else:\n",
    "    if num_list[1] >= num_list[2]:\n",
    "        print(f\"가장 큰 수는 {num_list[1]}입니다.\")\n",
    "    else:\n",
    "        print(f\"가장 큰 수는 {num_list[2]}입니다.\")"
   ]
  },
  {
   "cell_type": "markdown",
   "metadata": {},
   "source": [
    "### 반복문-문제1"
   ]
  },
  {
   "cell_type": "code",
   "execution_count": 23,
   "metadata": {},
   "outputs": [
    {
     "name": "stdout",
     "output_type": "stream",
     "text": [
      "P\n",
      "y\n",
      "t\n",
      "h\n",
      "o\n",
      "n\n"
     ]
    }
   ],
   "source": [
    "#(1)\n",
    "word = 'Python'\n",
    "count= 0\n",
    "while count <= len(word)-1:\n",
    "    print(word[count])\n",
    "    count += 1"
   ]
  },
  {
   "cell_type": "code",
   "execution_count": 26,
   "metadata": {},
   "outputs": [
    {
     "name": "stdout",
     "output_type": "stream",
     "text": [
      "P\n",
      "y\n",
      "t\n",
      "h\n",
      "o\n",
      "n\n"
     ]
    }
   ],
   "source": [
    "#(2)\n",
    "word = 'Python'\n",
    "for x in word:\n",
    "    print(x)"
   ]
  },
  {
   "cell_type": "markdown",
   "metadata": {},
   "source": [
    "### 반복문-문제2"
   ]
  },
  {
   "cell_type": "code",
   "execution_count": 30,
   "metadata": {},
   "outputs": [
    {
     "name": "stdout",
     "output_type": "stream",
     "text": [
      "10, 9, 8, 7, 6, 5, 4, 3, 2, 1, Happy new year!!\n"
     ]
    }
   ],
   "source": [
    "count = 10\n",
    "while count >= 1:\n",
    "    print(count, end = ', ')\n",
    "    count -= 1\n",
    "print(\"Happy new year!!\")"
   ]
  },
  {
   "cell_type": "markdown",
   "metadata": {},
   "source": [
    "### 반복문-문제3"
   ]
  },
  {
   "cell_type": "code",
   "execution_count": 35,
   "metadata": {},
   "outputs": [
    {
     "name": "stdout",
     "output_type": "stream",
     "text": [
      "Enter two integers: 5 10\n",
      "The sum from 5 to 10 is 45\n"
     ]
    }
   ],
   "source": [
    "nums = input(\"Enter two integers: \")\n",
    "num_list = list(map(int, nums.split()))\n",
    "\n",
    "start = num_list[0]\n",
    "end = num_list[1]\n",
    "result = 0\n",
    "\n",
    "for i in range(start, end+1):\n",
    "    result = result + i\n",
    "    \n",
    "print(f\"The sum from {start} to {end} is {result}\")"
   ]
  },
  {
   "cell_type": "markdown",
   "metadata": {},
   "source": [
    "### 반복문-문제4"
   ]
  },
  {
   "cell_type": "code",
   "execution_count": 38,
   "metadata": {},
   "outputs": [
    {
     "name": "stdout",
     "output_type": "stream",
     "text": [
      "3\n"
     ]
    }
   ],
   "source": [
    "word = 'banana'\n",
    "result = 0\n",
    "\n",
    "for a in word:\n",
    "    if a == 'a':\n",
    "        result = result + 1\n",
    "\n",
    "print(result)"
   ]
  },
  {
   "cell_type": "markdown",
   "metadata": {},
   "source": [
    "### 반복문-문제5"
   ]
  },
  {
   "cell_type": "code",
   "execution_count": 124,
   "metadata": {},
   "outputs": [
    {
     "name": "stdout",
     "output_type": "stream",
     "text": [
      "0 1 2 3 4 5 6 7 8 9 \n",
      "0 5 10 15 20 25 30 35 40 45 50 \n",
      "10 9 8 7 6 5 4 3 2 1 "
     ]
    }
   ],
   "source": [
    "a = list(range(10))\n",
    "b = list(range(0,55,5))\n",
    "c = list(range(1,11))\n",
    "c.reverse()\n",
    "\n",
    "for i in a:\n",
    "    print(i, end = ' ')\n",
    "\n",
    "print('')\n",
    "\n",
    "for i in b:\n",
    "    print(i, end = ' ')\n",
    "\n",
    "print('')\n",
    "\n",
    "for i in c:\n",
    "    print(i, end = ' ')"
   ]
  },
  {
   "cell_type": "markdown",
   "metadata": {},
   "source": [
    "### 반복문-문제6"
   ]
  },
  {
   "cell_type": "code",
   "execution_count": 77,
   "metadata": {},
   "outputs": [
    {
     "name": "stdout",
     "output_type": "stream",
     "text": [
      "red\n",
      "green\n",
      "blue\n"
     ]
    }
   ],
   "source": [
    "colors = [\"red\", \"green\", \"blue\"]\n",
    "for color in colors:\n",
    "    print(color)"
   ]
  },
  {
   "cell_type": "markdown",
   "metadata": {},
   "source": [
    "### 반복문-문제7"
   ]
  },
  {
   "cell_type": "code",
   "execution_count": 79,
   "metadata": {},
   "outputs": [
    {
     "name": "stdout",
     "output_type": "stream",
     "text": [
      "4 6 8 10 12 "
     ]
    }
   ],
   "source": [
    "a = [1, 3, 4, 5, 6, 7, 8, 9, 10, 11, 12, 13]\n",
    "for i in a:\n",
    "    if i > 2 and i % 2 == 0:\n",
    "        print(i, end = ' ')"
   ]
  },
  {
   "cell_type": "markdown",
   "metadata": {},
   "source": [
    "### 반복문-문제8"
   ]
  },
  {
   "cell_type": "code",
   "execution_count": 82,
   "metadata": {},
   "outputs": [
    {
     "name": "stdout",
     "output_type": "stream",
     "text": [
      "출력하고 싶은 단을 입력하세요: 7\n",
      "7 * 1 = 7\n",
      "7 * 2 = 14\n",
      "7 * 3 = 21\n",
      "7 * 4 = 28\n",
      "7 * 5 = 35\n",
      "7 * 6 = 42\n",
      "7 * 7 = 49\n",
      "7 * 8 = 56\n",
      "7 * 9 = 63\n"
     ]
    }
   ],
   "source": [
    "num = int(input(\"출력하고 싶은 단을 입력하세요: \"))\n",
    "for i in range(1,10):\n",
    "    print(f'{num} * {i} = {num*i}')"
   ]
  },
  {
   "cell_type": "markdown",
   "metadata": {},
   "source": [
    "### 반복문-문제9"
   ]
  },
  {
   "cell_type": "code",
   "execution_count": 86,
   "metadata": {},
   "outputs": [
    {
     "name": "stdout",
     "output_type": "stream",
     "text": [
      "== 2단 ==\n",
      "2 * 1 = 2\n",
      "2 * 2 = 4\n",
      "2 * 3 = 6\n",
      "2 * 4 = 8\n",
      "2 * 5 = 10\n",
      "2 * 6 = 12\n",
      "2 * 7 = 14\n",
      "2 * 8 = 16\n",
      "2 * 9 = 18\n",
      "== 3단 ==\n",
      "3 * 1 = 3\n",
      "3 * 2 = 6\n",
      "3 * 3 = 9\n",
      "3 * 4 = 12\n",
      "3 * 5 = 15\n",
      "3 * 6 = 18\n",
      "3 * 7 = 21\n",
      "3 * 8 = 24\n",
      "3 * 9 = 27\n",
      "== 4단 ==\n",
      "4 * 1 = 4\n",
      "4 * 2 = 8\n",
      "4 * 3 = 12\n",
      "4 * 4 = 16\n",
      "4 * 5 = 20\n",
      "4 * 6 = 24\n",
      "4 * 7 = 28\n",
      "4 * 8 = 32\n",
      "4 * 9 = 36\n",
      "== 5단 ==\n",
      "5 * 1 = 5\n",
      "5 * 2 = 10\n",
      "5 * 3 = 15\n",
      "5 * 4 = 20\n",
      "5 * 5 = 25\n",
      "5 * 6 = 30\n",
      "5 * 7 = 35\n",
      "5 * 8 = 40\n",
      "5 * 9 = 45\n",
      "== 6단 ==\n",
      "6 * 1 = 6\n",
      "6 * 2 = 12\n",
      "6 * 3 = 18\n",
      "6 * 4 = 24\n",
      "6 * 5 = 30\n",
      "6 * 6 = 36\n",
      "6 * 7 = 42\n",
      "6 * 8 = 48\n",
      "6 * 9 = 54\n",
      "== 7단 ==\n",
      "7 * 1 = 7\n",
      "7 * 2 = 14\n",
      "7 * 3 = 21\n",
      "7 * 4 = 28\n",
      "7 * 5 = 35\n",
      "7 * 6 = 42\n",
      "7 * 7 = 49\n",
      "7 * 8 = 56\n",
      "7 * 9 = 63\n",
      "== 8단 ==\n",
      "8 * 1 = 8\n",
      "8 * 2 = 16\n",
      "8 * 3 = 24\n",
      "8 * 4 = 32\n",
      "8 * 5 = 40\n",
      "8 * 6 = 48\n",
      "8 * 7 = 56\n",
      "8 * 8 = 64\n",
      "8 * 9 = 72\n",
      "== 9단 ==\n",
      "9 * 1 = 9\n",
      "9 * 2 = 18\n",
      "9 * 3 = 27\n",
      "9 * 4 = 36\n",
      "9 * 5 = 45\n",
      "9 * 6 = 54\n",
      "9 * 7 = 63\n",
      "9 * 8 = 72\n",
      "9 * 9 = 81\n"
     ]
    }
   ],
   "source": [
    "for i in range(2,10):\n",
    "    print(f\"== {i}단 ==\")\n",
    "    for j in range(1,10):\n",
    "        print(f'{i} * {j} = {i*j}')"
   ]
  },
  {
   "cell_type": "markdown",
   "metadata": {},
   "source": [
    "### 반복문-문제10"
   ]
  },
  {
   "cell_type": "code",
   "execution_count": 121,
   "metadata": {},
   "outputs": [
    {
     "name": "stdout",
     "output_type": "stream",
     "text": [
      "2 * 1 =  2 3 * 1 =  3 4 * 1 =  4 5 * 1 =  5 6 * 1 =  6 7 * 1 =  7 8 * 1 =  8 9 * 1 =  9  \n",
      "2 * 2 =  4 3 * 2 =  6 4 * 2 =  8 5 * 2 = 10 6 * 2 = 12 7 * 2 = 14 8 * 2 = 16 9 * 2 = 18  \n",
      "2 * 3 =  6 3 * 3 =  9 4 * 3 = 12 5 * 3 = 15 6 * 3 = 18 7 * 3 = 21 8 * 3 = 24 9 * 3 = 27  \n",
      "2 * 4 =  8 3 * 4 = 12 4 * 4 = 16 5 * 4 = 20 6 * 4 = 24 7 * 4 = 28 8 * 4 = 32 9 * 4 = 36  \n",
      "2 * 5 = 10 3 * 5 = 15 4 * 5 = 20 5 * 5 = 25 6 * 5 = 30 7 * 5 = 35 8 * 5 = 40 9 * 5 = 45  \n",
      "2 * 6 = 12 3 * 6 = 18 4 * 6 = 24 5 * 6 = 30 6 * 6 = 36 7 * 6 = 42 8 * 6 = 48 9 * 6 = 54  \n",
      "2 * 7 = 14 3 * 7 = 21 4 * 7 = 28 5 * 7 = 35 6 * 7 = 42 7 * 7 = 49 8 * 7 = 56 9 * 7 = 63  \n",
      "2 * 8 = 16 3 * 8 = 24 4 * 8 = 32 5 * 8 = 40 6 * 8 = 48 7 * 8 = 56 8 * 8 = 64 9 * 8 = 72  \n",
      "2 * 9 = 18 3 * 9 = 27 4 * 9 = 36 5 * 9 = 45 6 * 9 = 54 7 * 9 = 63 8 * 9 = 72 9 * 9 = 81  \n"
     ]
    }
   ],
   "source": [
    "for j in range(1,10):\n",
    "    for i in range(2,10):\n",
    "        print('%d * %d = %2d'%(i,j,j*i), end = ' ')\n",
    "    print(' ')"
   ]
  },
  {
   "cell_type": "markdown",
   "metadata": {},
   "source": [
    "### 반복문-문제11"
   ]
  },
  {
   "cell_type": "code",
   "execution_count": 122,
   "metadata": {},
   "outputs": [
    {
     "name": "stdout",
     "output_type": "stream",
     "text": [
      "input an inger: 3159\n",
      "★★★\n",
      "★\n",
      "★★★★★\n",
      "★★★★★★★★★\n"
     ]
    }
   ],
   "source": [
    "num = input(\"input an inger: \")\n",
    "for i in num:\n",
    "    print(\"★\"*int(i))"
   ]
  },
  {
   "cell_type": "markdown",
   "metadata": {},
   "source": [
    "### 반복문-문제12"
   ]
  },
  {
   "cell_type": "code",
   "execution_count": 149,
   "metadata": {},
   "outputs": [
    {
     "name": "stdout",
     "output_type": "stream",
     "text": [
      "Enter a number: 7\n",
      "Enter a number: 2\n",
      "Enter a number: 9\n",
      "Enter a number: 3\n",
      "Enter a number: 5\n",
      "Enter a number: done\n",
      "Average: 5.2\n",
      "Maximum: 9\n",
      "Minimum: 2\n"
     ]
    }
   ],
   "source": [
    "nums = []\n",
    "while True:\n",
    "    num = input(\"Enter a number: \")\n",
    "    if num != 'done':\n",
    "        nums.append(num)\n",
    "    else:\n",
    "        break\n",
    "\n",
    "nums = list(map(int,nums))\n",
    "print(f'Average: {sum(nums)/(len(nums))}')\n",
    "print(f'Maximum: {max(nums)}')\n",
    "print(f'Minimum: {min(nums)}')"
   ]
  },
  {
   "cell_type": "code",
   "execution_count": null,
   "metadata": {},
   "outputs": [],
   "source": []
  }
 ],
 "metadata": {
  "kernelspec": {
   "display_name": "Python 3",
   "language": "python",
   "name": "python3"
  },
  "language_info": {
   "codemirror_mode": {
    "name": "ipython",
    "version": 3
   },
   "file_extension": ".py",
   "mimetype": "text/x-python",
   "name": "python",
   "nbconvert_exporter": "python",
   "pygments_lexer": "ipython3",
   "version": "3.8.3"
  }
 },
 "nbformat": 4,
 "nbformat_minor": 4
}
